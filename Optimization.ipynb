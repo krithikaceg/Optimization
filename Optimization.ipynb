{
  "nbformat": 4,
  "nbformat_minor": 0,
  "metadata": {
    "colab": {
      "name": "Optimization.ipynb",
      "version": "0.3.2",
      "provenance": [],
      "toc_visible": true
    },
    "kernelspec": {
      "name": "python3",
      "display_name": "Python 3"
    }
  },
  "cells": [
    {
      "metadata": {
        "id": "NDxBc9bL1dun",
        "colab_type": "text"
      },
      "cell_type": "markdown",
      "source": [
        "# Exercise 1: Advertisement agency sensitivity analysis"
      ]
    },
    {
      "metadata": {
        "id": "UZfmvhiOo1eE",
        "colab_type": "text"
      },
      "cell_type": "markdown",
      "source": [
        "## Modeling"
      ]
    },
    {
      "metadata": {
        "id": "vXPa7-LXhAix",
        "colab_type": "text"
      },
      "cell_type": "markdown",
      "source": [
        "\n",
        "**Decision variables **\n",
        "Let $i=\\{1,2,3,4\\}$ be in the index for the advertisers such that\n",
        "* $i=1$ is GEICO\n",
        "* $i=2$ is Delta\n",
        "* $i=3$ is T-Mobile\n",
        "* $i=4$ is Capital One\n",
        "\n",
        "Let $j=\\{1,2\\}$ be the index for the category, such as $j=1$ is the Sports categorty and $j=2$ is the National category.\n",
        "\n",
        "So $x_{11}$ is the number of impressions for Geico in Sports and $x_{12}$ is the number of impressions for GEICO int he National category\n",
        "\n",
        "\n",
        "**Objective**\n",
        "\n",
        "The objective of the platform, i.e., Washington Post, is to maximize advertising revenues. These revenues are driven by the cost per click charged to the advertisers, i.e., $\\pi=\\$2.5$ and the click-through rates (CTR).\n",
        "\n",
        "Let $\\kappa_{ij}$ be the CTR of advertiser $i$ in category $j$. For instance, the CTR of T-Mobile in the sports category is $\\kappa_{31}=1.0\\%$, whereas its CTR in the National category is $\\kappa_{32}=3.0\\%$.\n",
        "\n",
        "The objective function is thus:\n",
        "\\begin{equation}\n",
        "Maximize \\quad 2.3\\times \\sum_{i=1}^4\\sum_{j=1}^{2}  \\kappa_{ij}\\times x_{ij}\n",
        "\\end{equation}\n",
        "\n",
        "\n",
        "\n",
        "\n",
        "\n",
        "**Constraints**\n",
        "The first table provides the following constraints\n",
        "\n",
        "\\begin{align}\n",
        "x_{11}&\\geq 2,000,000\\\\\n",
        "x_{12}&\\geq 1,000,000\\\\\n",
        "x_{22}&\\geq 1,000,000\\\\\n",
        "x_{21}+x_{22}&\\geq 2,000,000\\\\\n",
        "x_{31}&\\geq 1,000,000\\\\\n",
        "x_{32}&\\geq 1,000,000\\\\\n",
        "x_{31}+x_{32}&\\geq 3,000,000\\\\\n",
        "x_{41}+x_{42}&\\geq 2,000,000\\\\\n",
        "\\end{align}\n",
        "\n",
        "\"Assume that the Sports section gets six million views per day and the National section\n",
        "get five million views per day\"\n",
        "This statement gives two constraints:\n",
        "\\begin{align}\n",
        "\\sum_{i=1}^{4}x_{i1}&\\leq 6,000,000\\\\\n",
        "\\sum_{i=1}^{4}x_{i2}&\\leq 5,000,000\\\\\n",
        "\\end{align}\n",
        "\n",
        "Non-negativity constraints are\n",
        "\\begin{equation}\n",
        "x_{ij}\\geq 0\n",
        "\\end{equation}"
      ]
    },
    {
      "metadata": {
        "id": "U5zCh3QZtCzW",
        "colab_type": "text"
      },
      "cell_type": "markdown",
      "source": [
        "### Import Libraries"
      ]
    },
    {
      "metadata": {
        "id": "kOxP5vR0tBXa",
        "colab_type": "code",
        "colab": {}
      },
      "cell_type": "code",
      "source": [
        "import math\n",
        "import numpy\n",
        "import cvxpy as cvx\n",
        "import numpy as np"
      ],
      "execution_count": 0,
      "outputs": []
    },
    {
      "metadata": {
        "id": "BnyBKjuktHS2",
        "colab_type": "text"
      },
      "cell_type": "markdown",
      "source": [
        "### Variable declaration"
      ]
    },
    {
      "metadata": {
        "id": "FImjqGdgtL0D",
        "colab_type": "code",
        "colab": {}
      },
      "cell_type": "code",
      "source": [
        "# number of impressions required in each section by each company\n",
        "x11 = cvx.Variable(1, integer=True)# Geico Sports\n",
        "x12 = cvx.Variable(1, integer=True)# Geico National\n",
        "x21 = cvx.Variable(1, integer=True)# Delta Sports\n",
        "x22 = cvx.Variable(1, integer=True)# Delta National\n",
        "x31 = cvx.Variable(1, integer=True)# T-Mobile Sports\n",
        "x32 = cvx.Variable(1, integer=True)# T-Mobile National\n",
        "x41 = cvx.Variable(1, integer=True)# Capital One Sports\n",
        "x42 = cvx.Variable(1, integer=True)# Capital One National"
      ],
      "execution_count": 0,
      "outputs": []
    },
    {
      "metadata": {
        "id": "8aQ46aTItO_5",
        "colab_type": "text"
      },
      "cell_type": "markdown",
      "source": [
        "### Constraints"
      ]
    },
    {
      "metadata": {
        "id": "KjgQWIbvtR-G",
        "colab_type": "code",
        "colab": {}
      },
      "cell_type": "code",
      "source": [
        "c1= x11>= 2000000 \n",
        "c2= x12>= 1000000 \n",
        "c3=x22>= 1000000 \n",
        "c4= x21+x22== 2000000 \n",
        "c5=x31>=1000000\n",
        "c6=x32>=1000000\n",
        "c7=x31+x32==3000000\n",
        "c8=x41+x42==2000000\n",
        "c9=x11+x21+x31+x41<=6000000\n",
        "c10=x12+x22+x32+x42<=5000000\n",
        "c11=x21>=0\n",
        "c12=x41>=0\n",
        "c13=x42>=0\n",
        "con=[c1,c2,c3,c4,c5,c6,c7,c8,c9,c10,c11,c12,c13]"
      ],
      "execution_count": 0,
      "outputs": []
    },
    {
      "metadata": {
        "id": "FmbCaGjKtYPn",
        "colab_type": "text"
      },
      "cell_type": "markdown",
      "source": [
        "### Objective function"
      ]
    },
    {
      "metadata": {
        "id": "FsB4B3O_tb8O",
        "colab_type": "code",
        "colab": {}
      },
      "cell_type": "code",
      "source": [
        "#objective\n",
        "k11=2.5/100\n",
        "k12=0.8/100\n",
        "k21=2.0/100\n",
        "k22=1.0/100\n",
        "k31=1.0/100\n",
        "k32=3.0/100\n",
        "k41=1.5/100\n",
        "k42=2.0/100\n",
        "OF=(k11*x11 + k12*x12 + k21*x21 + k22*x22 + k31*x31 + k32*x32 + k41*x41 + k42*x42) * 2.3\n",
        "objective = cvx.Maximize(OF)"
      ],
      "execution_count": 0,
      "outputs": []
    },
    {
      "metadata": {
        "id": "tiyoctz7tgFV",
        "colab_type": "text"
      },
      "cell_type": "markdown",
      "source": [
        "### Maximum Revenue"
      ]
    },
    {
      "metadata": {
        "id": "EtK4GXUSf5ma",
        "colab_type": "code",
        "colab": {
          "base_uri": "https://localhost:8080/",
          "height": 51
        },
        "outputId": "008ce5e0-5c2f-42f0-d467-08dffcefb5c5"
      },
      "cell_type": "code",
      "source": [
        "\n",
        "prob = cvx.Problem(objective, con)\n",
        "result = prob.solve()\n",
        "\n",
        "print('optimal revenue')\n",
        "print (int(np.round(prob.value)))"
      ],
      "execution_count": 10,
      "outputs": [
        {
          "output_type": "stream",
          "text": [
            "optimal revenue\n",
            "501400\n"
          ],
          "name": "stdout"
        }
      ]
    },
    {
      "metadata": {
        "id": "GCGJqoDNtl5O",
        "colab_type": "text"
      },
      "cell_type": "markdown",
      "source": [
        "### Impressions allocation"
      ]
    },
    {
      "metadata": {
        "id": "0ZmUGgyfhcAJ",
        "colab_type": "code",
        "colab": {
          "base_uri": "https://localhost:8080/",
          "height": 153
        },
        "outputId": "fbad9016-de72-4b4b-bede-af153cd2be63"
      },
      "cell_type": "code",
      "source": [
        "from prettytable import PrettyTable\n",
        "    \n",
        "x = PrettyTable()\n",
        "\n",
        "x.field_names = [\"Advertisers\", \"Sports\", \"National\"]\n",
        "\n",
        "x.add_row([\"Geico\", int(np.round(x11.value)), int(np.round(x12.value))])\n",
        "x.add_row([\"Delta\", int(np.round(x21.value)), int(np.round(x22.value))])\n",
        "x.add_row([\"T-Mobile\", int(np.round(x31.value)), int(np.round(x32.value))])\n",
        "x.add_row([\"Capital One\", int(np.round(x41.value)), int(np.round(x42.value))])\n",
        "\n",
        "print(x)"
      ],
      "execution_count": 6,
      "outputs": [
        {
          "output_type": "stream",
          "text": [
            "+-------------+---------+----------+\n",
            "| Advertisers |  Sports | National |\n",
            "+-------------+---------+----------+\n",
            "|    Geico    | 3000000 | 1000000  |\n",
            "|    Delta    | 1000000 | 1000000  |\n",
            "|   T-Mobile  | 1000000 | 2000000  |\n",
            "| Capital One | 1000000 | 1000000  |\n",
            "+-------------+---------+----------+\n"
          ],
          "name": "stdout"
        }
      ]
    },
    {
      "metadata": {
        "id": "ubrDrvvNooqJ",
        "colab_type": "text"
      },
      "cell_type": "markdown",
      "source": [
        "## Sensitivity Analysis"
      ]
    },
    {
      "metadata": {
        "id": "h9wX0uhipSI-",
        "colab_type": "text"
      },
      "cell_type": "markdown",
      "source": [
        "We are going to perform sensitivity analysis based on changing the Click Through Rate (CTR). "
      ]
    },
    {
      "metadata": {
        "id": "Knb2y7dPpl7v",
        "colab_type": "text"
      },
      "cell_type": "markdown",
      "source": [
        "**Changing one advetiser's Click Through Rate for both sections**"
      ]
    },
    {
      "metadata": {
        "id": "-ua8NBuwHbWs",
        "colab_type": "code",
        "colab": {}
      },
      "cell_type": "code",
      "source": [
        "# We take the midpoint of the range of values for each advertiser's each section\n",
        "k11=2.5/100\n",
        "k12=0.6/100\n",
        "k21=2.0/100\n",
        "k22=1.0/100\n",
        "k31=1.0/100\n",
        "k32=3.0/100\n",
        "k41=1.75/100\n",
        "k42=2.0/100\n",
        "\n",
        "# Before running sensitivity analysis, we are saving the original allocation results\n",
        "# this allocation will be used to compare how sensitive the allocation is with respect to different CTR\n",
        "opt_x11 = int(np.round(x11.value))\n",
        "opt_x12 = int(np.round(x12.value))\n",
        "opt_x21 = int(np.round(x21.value))\n",
        "opt_x22 = int(np.round(x22.value))\n",
        "opt_x31 = int(np.round(x31.value))\n",
        "opt_x32 = int(np.round(x32.value))\n",
        "opt_x41 = int(np.round(x41.value))\n",
        "opt_x42 = int(np.round(x42.value))\n",
        "\n",
        "# compares the allocation with the optimal allocation (as a benchmark) arrived in the above section.\n",
        "# if each advertiser's each section matches our benchmark value, we return True else False\n",
        "# returns True/False\n",
        "def compare_difference(x11, x12, x21, x22, x31, x32, x41, x42):\n",
        "  compare_result =  (int(np.round(x11.value)) != opt_x11) or (int(np.round(x12.value)) != opt_x12) or (int(np.round(x21.value)) != opt_x21) or (int(np.round(x22.value)) != opt_x22) or (int(np.round(x31.value)) != opt_x31) or (int(np.round(x32.value)) != opt_x32) and (int(np.round(x41.value)) != opt_x41) and (int(np.round(x42.value)) != opt_x42)  \n",
        "  return compare_result"
      ],
      "execution_count": 0,
      "outputs": []
    },
    {
      "metadata": {
        "id": "R7rXDtA9omMf",
        "colab_type": "code",
        "colab": {
          "base_uri": "https://localhost:8080/",
          "height": 2298
        },
        "outputId": "6ae698c1-225c-4bb9-eced-321491be21aa"
      },
      "cell_type": "code",
      "source": [
        "print(\"Sensitivity analysis for different CTR. Printing only the allocation that are different from the benchmark allocation\")\n",
        "\n",
        "# on an increment of 0.5, the different CTR values Geiko Sports can take\n",
        "k11_values = [2.0/100, 2.5/100, 3.0/100]\n",
        "# on an increment of 0.5, the different CTR values Geiko National can take\n",
        "k12_values = [0.1/100, 0.6/100, 1.1/100]\n",
        "\n",
        "optimal_geiko = []\n",
        "optimal_delta = []\n",
        "optimal_tmobile = []\n",
        "optimal_capitalone = []\n",
        "\n",
        "for k11 in k11_values:\n",
        "  \n",
        "  for k12 in k12_values:\n",
        "    print(\"CTR Geiko Sports: %s\" %k11)\n",
        "    print(\"CTR Geiko National: %s\" %round(k12, 2))\n",
        "    OF=(k11*x11 + k12*x12+ k21*x21 + k22*x22 + k31*x31+ k32*x32+k41*x41+k42*x42)*2.3\n",
        "    objective = cvx.Maximize(OF)\n",
        "\n",
        "    #solving\n",
        "    prob = cvx.Problem(objective, con)\n",
        "    result = prob.solve()\n",
        "\n",
        "    print('optimal revenue')\n",
        "    print (int(np.round(prob.value)))\n",
        "    optimal_geiko.append(int(np.round(prob.value)))\n",
        "    \n",
        "    x = PrettyTable()\n",
        "\n",
        "    x.field_names = [\"Advertisers\", \"Sports\", \"National\"]\n",
        "\n",
        "    x.add_row([\"Geico\", int(np.round(x11.value)), int(np.round(x12.value))])\n",
        "    x.add_row([\"Delta\", int(np.round(x21.value)), int(np.round(x22.value))])\n",
        "    x.add_row([\"T-Mobile\", int(np.round(x31.value)), int(np.round(x32.value))])\n",
        "    x.add_row([\"Capital One\", int(np.round(x41.value)), int(np.round(x42.value))])\n",
        "    \n",
        "    # we are printing the allocation only when it is different from benchmark\n",
        "    if compare_difference(x11, x12, x21, x22, x31, x32, x41, x42):\n",
        "      print(x)\n",
        "\n",
        "      \n",
        "# after finishing the loop, replacing with the original values      \n",
        "k11=2.5/100\n",
        "k12=0.6/100\n",
        "\n",
        "# on an increment of 0.5, the different CTR values Delta Sports can take\n",
        "k21_values = [1.5/100, 2.0/100, 2.5/100]\n",
        "# on an increment of 0.5, the different CTR values Delta National can take\n",
        "k22_values = [0.5/100, 1.0/100, 1.5/100]\n",
        "\n",
        "for k21 in k21_values:\n",
        "  for k22 in k22_values:\n",
        "    print(\"CTR Delta Sports: %s\" %k21)\n",
        "    print(\"CTR Delta National: %s\" %round(k22, 2))\n",
        "    OF=(k11*x11 + k12*x12+ k21*x21 + k22*x22 + k31*x31+ k32*x32+k41*x41+k42*x42)*2.3\n",
        "    objective = cvx.Maximize(OF)\n",
        "\n",
        "    #solving\n",
        "    prob = cvx.Problem(objective, con)\n",
        "    result = prob.solve()\n",
        "\n",
        "    print('optimal revenue')\n",
        "    print (int(np.round(prob.value)))\n",
        "    optimal_delta.append(int(np.round(prob.value)))\n",
        "    x = PrettyTable()\n",
        "\n",
        "    x.field_names = [\"Advertisers\", \"Sports\", \"National\"]\n",
        "\n",
        "    x.add_row([\"Geico\", int(np.round(x11.value)), int(np.round(x12.value))])\n",
        "    x.add_row([\"Delta\", int(np.round(x21.value)), int(np.round(x22.value))])\n",
        "    x.add_row([\"T-Mobile\", int(np.round(x31.value)), int(np.round(x32.value))])\n",
        "    x.add_row([\"Capital One\", int(np.round(x41.value)), int(np.round(x42.value))])\n",
        "\n",
        "    # we are printing the allocation only when it is different from benchmark\n",
        "    if compare_difference(x11, x12, x21, x22, x31, x32, x41, x42):\n",
        "      print(x)\n",
        "\n",
        "# after finishing the loop, replacing with the original values      \n",
        "k21=2.0/100\n",
        "k22=1.0/100\n",
        "\n",
        "# on an increment of 0.5, the different CTR values T-mobile Sports can take\n",
        "k31_values = [0.5/100, 1.0/100, 1.5/100]\n",
        "# on an increment of 0.5, the different CTR values T-mobile National can take\n",
        "k32_values = [2.5/100, 3.0/100, 3.5/100]\n",
        "\n",
        "for k31 in k31_values:\n",
        "  \n",
        "  for k32 in k32_values:\n",
        "    print(\"CTR T-mobile Sports: %s\" %round(k31, 2))\n",
        "    print(\"CTR T-mobile National: %s\" %round(k32, 2))\n",
        "    OF=(k11*x11 + k12*x12+ k21*x21 + k22*x22 + k31*x31+ k32*x32+k41*x41+k42*x42)*2.3\n",
        "    objective = cvx.Maximize(OF)\n",
        "\n",
        "    #solving\n",
        "    prob = cvx.Problem(objective, con)\n",
        "    result = prob.solve()\n",
        "\n",
        "    print('optimal revenue')\n",
        "    print (int(np.round(prob.value)))\n",
        "    optimal_tmobile.append(int(np.round(prob.value)))\n",
        "    x = PrettyTable()\n",
        "\n",
        "    x.field_names = [\"Advertisers\", \"Sports\", \"National\"]\n",
        "\n",
        "    x.add_row([\"Geico\", int(np.round(x11.value)), int(np.round(x12.value))])\n",
        "    x.add_row([\"Delta\", int(np.round(x21.value)), int(np.round(x22.value))])\n",
        "    x.add_row([\"T-Mobile\", int(np.round(x31.value)), int(np.round(x32.value))])\n",
        "    x.add_row([\"Capital One\", int(np.round(x41.value)), int(np.round(x42.value))])\n",
        "\n",
        "    # we are printing the allocation only when it is different from benchmark\n",
        "    if compare_difference(x11, x12, x21, x22, x31, x32, x41, x42):\n",
        "      print(x)\n",
        "\n",
        "# after finishing the loop, replacing with the original values      \n",
        "k31=1.0/100\n",
        "k32=3.0/100\n",
        "\n",
        "# on an increment of 0.5, the different CTR values Capital One Sports can take\n",
        "k41_values = [1.5/100, 2.0/100]\n",
        "# on an increment of 0.5, the different CTR values Capital One National can take\n",
        "k42_values = [1.5/100, 2.0/100, 2.5/100]\n",
        "\n",
        "for k41 in k41_values:\n",
        "  \n",
        "  for k42 in k42_values:\n",
        "    print(\"CTR Captial One Sports: %s\" %k41)\n",
        "    print(\"CTR Captial One National: %s\" %k42)\n",
        "    OF=(k11*x11 + k12*x12+ k21*x21 + k22*x22 + k31*x31+ k32*x32+k41*x41+k42*x42)*2.3\n",
        "    objective = cvx.Maximize(OF)\n",
        "\n",
        "    #solving\n",
        "    prob = cvx.Problem(objective, con)\n",
        "    result = prob.solve()\n",
        "    \n",
        "    print('optimal revenue')\n",
        "    print (int(np.round(prob.value)))\n",
        "    optimal_capitalone.append(int(np.round(prob.value)))\n",
        "    x = PrettyTable()\n",
        "\n",
        "    x.field_names = [\"Advertisers\", \"Sports\", \"National\"]\n",
        "\n",
        "    x.add_row([\"Geico\", int(np.round(x11.value)), int(np.round(x12.value))])\n",
        "    x.add_row([\"Delta\", int(np.round(x21.value)), int(np.round(x22.value))])\n",
        "    x.add_row([\"T-Mobile\", int(np.round(x31.value)), int(np.round(x32.value))])\n",
        "    x.add_row([\"Capital One\", int(np.round(x41.value)), int(np.round(x42.value))])\n",
        "    \n",
        "    # we are printing the allocation only when it is different from benchmark\n",
        "    if compare_difference(x11, x12, x21, x22, x31, x32, x41, x42):\n",
        "      print(x)\n",
        "\n",
        "# after finishing the loop, replacing with the original values      \n",
        "k41=1.5/100\n",
        "k42=2.0/100\n"
      ],
      "execution_count": 12,
      "outputs": [
        {
          "output_type": "stream",
          "text": [
            "Sensitivity analysis for different CTR. Printing only the allocation that are different from the benchmark allocation\n",
            "CTR Geiko Sports: 0.02\n",
            "CTR Geiko National: 0.0\n",
            "optimal revenue\n",
            "456550\n",
            "CTR Geiko Sports: 0.02\n",
            "CTR Geiko National: 0.01\n",
            "optimal revenue\n",
            "468050\n",
            "CTR Geiko Sports: 0.02\n",
            "CTR Geiko National: 0.01\n",
            "optimal revenue\n",
            "479550\n",
            "CTR Geiko Sports: 0.025\n",
            "CTR Geiko National: 0.0\n",
            "optimal revenue\n",
            "491050\n",
            "CTR Geiko Sports: 0.025\n",
            "CTR Geiko National: 0.01\n",
            "optimal revenue\n",
            "502550\n",
            "CTR Geiko Sports: 0.025\n",
            "CTR Geiko National: 0.01\n",
            "optimal revenue\n",
            "514050\n",
            "CTR Geiko Sports: 0.03\n",
            "CTR Geiko National: 0.0\n",
            "optimal revenue\n",
            "525550\n",
            "CTR Geiko Sports: 0.03\n",
            "CTR Geiko National: 0.01\n",
            "optimal revenue\n",
            "537050\n",
            "CTR Geiko Sports: 0.03\n",
            "CTR Geiko National: 0.01\n",
            "optimal revenue\n",
            "548550\n",
            "CTR Delta Sports: 0.015\n",
            "CTR Delta National: 0.01\n",
            "optimal revenue\n",
            "479550\n",
            "CTR Delta Sports: 0.015\n",
            "CTR Delta National: 0.01\n",
            "optimal revenue\n",
            "491050\n",
            "CTR Delta Sports: 0.015\n",
            "CTR Delta National: 0.01\n",
            "optimal revenue\n",
            "502550\n",
            "CTR Delta Sports: 0.02\n",
            "CTR Delta National: 0.01\n",
            "optimal revenue\n",
            "491050\n",
            "CTR Delta Sports: 0.02\n",
            "CTR Delta National: 0.01\n",
            "optimal revenue\n",
            "502550\n",
            "CTR Delta Sports: 0.02\n",
            "CTR Delta National: 0.01\n",
            "optimal revenue\n",
            "514050\n",
            "CTR Delta Sports: 0.025\n",
            "CTR Delta National: 0.01\n",
            "optimal revenue\n",
            "502550\n",
            "CTR Delta Sports: 0.025\n",
            "CTR Delta National: 0.01\n",
            "optimal revenue\n",
            "514050\n",
            "CTR Delta Sports: 0.025\n",
            "CTR Delta National: 0.01\n",
            "optimal revenue\n",
            "525550\n",
            "CTR T-mobile Sports: 0.01\n",
            "CTR T-mobile National: 0.03\n",
            "optimal revenue\n",
            "468050\n",
            "CTR T-mobile Sports: 0.01\n",
            "CTR T-mobile National: 0.03\n",
            "optimal revenue\n",
            "491050\n",
            "CTR T-mobile Sports: 0.01\n",
            "CTR T-mobile National: 0.04\n",
            "optimal revenue\n",
            "514050\n",
            "CTR T-mobile Sports: 0.01\n",
            "CTR T-mobile National: 0.03\n",
            "optimal revenue\n",
            "479550\n",
            "CTR T-mobile Sports: 0.01\n",
            "CTR T-mobile National: 0.03\n",
            "optimal revenue\n",
            "502550\n",
            "CTR T-mobile Sports: 0.01\n",
            "CTR T-mobile National: 0.04\n",
            "optimal revenue\n",
            "525550\n",
            "CTR T-mobile Sports: 0.01\n",
            "CTR T-mobile National: 0.03\n",
            "optimal revenue\n",
            "491050\n",
            "CTR T-mobile Sports: 0.01\n",
            "CTR T-mobile National: 0.03\n",
            "optimal revenue\n",
            "514050\n",
            "CTR T-mobile Sports: 0.01\n",
            "CTR T-mobile National: 0.04\n",
            "optimal revenue\n",
            "537050\n",
            "CTR Captial One Sports: 0.015\n",
            "CTR Captial One National: 0.015\n",
            "optimal revenue\n",
            "485300\n",
            "CTR Captial One Sports: 0.015\n",
            "CTR Captial One National: 0.02\n",
            "optimal revenue\n",
            "496800\n",
            "CTR Captial One Sports: 0.015\n",
            "CTR Captial One National: 0.025\n",
            "optimal revenue\n",
            "508300\n",
            "CTR Captial One Sports: 0.02\n",
            "CTR Captial One National: 0.015\n",
            "optimal revenue\n",
            "496800\n",
            "CTR Captial One Sports: 0.02\n",
            "CTR Captial One National: 0.02\n",
            "optimal revenue\n",
            "508300\n",
            "CTR Captial One Sports: 0.02\n",
            "CTR Captial One National: 0.025\n",
            "optimal revenue\n",
            "519800\n"
          ],
          "name": "stdout"
        }
      ]
    },
    {
      "metadata": {
        "id": "y61lwOiIk1_m",
        "colab_type": "text"
      },
      "cell_type": "markdown",
      "source": [
        "### Section I: We are observing if the allocation changes, when the CTR changes."
      ]
    },
    {
      "metadata": {
        "id": "vKRmj1cjvVtw",
        "colab_type": "text"
      },
      "cell_type": "markdown",
      "source": [
        "![alt text](https://raw.github.com/krithikaceg/Optimization/master/Picture2.png)\n"
      ]
    },
    {
      "metadata": {
        "id": "g6TLoAwEF08m",
        "colab_type": "text"
      },
      "cell_type": "markdown",
      "source": [
        "As we can see form the above graph, Geiko is more sensitive to CTR rate changes.Whereas, t-mobile and Capital One is less sensitive."
      ]
    },
    {
      "metadata": {
        "id": "hkAo44htkUHN",
        "colab_type": "text"
      },
      "cell_type": "markdown",
      "source": [
        "### Section II: We are observing if the allocation changes, when the CTR changes.\n",
        "\n",
        "At a time, we are changing the Click Through Rate of both Sports and National section."
      ]
    },
    {
      "metadata": {
        "id": "sa9rCVsSlpcn",
        "colab_type": "text"
      },
      "cell_type": "markdown",
      "source": [
        "As we can observe from the above result, the allocation changes only for the following CTR combination.\n",
        "\n",
        "So, we can conclude that our allocation is not very sensitive to CTR."
      ]
    },
    {
      "metadata": {
        "id": "C6y9cVG7ppY5",
        "colab_type": "code",
        "colab": {
          "base_uri": "https://localhost:8080/",
          "height": 289
        },
        "outputId": "9a29c6c2-5581-4219-ba0f-bd00217811ab"
      },
      "cell_type": "code",
      "source": [
        "x = PrettyTable()\n",
        "\n",
        "x.field_names = [\"Advertisers\", \"Sports\", \"National\"]\n",
        "\n",
        "x.add_row([\"Geico\", 3000000, 1000000])\n",
        "x.add_row([\"Delta\", 928571, 1071429])\n",
        "x.add_row([\"T-Mobile\", 1000000, 2000000])\n",
        "x.add_row([\"Capital One\", 1071429, 928571])\n",
        "print(x)\n",
        "    \n",
        "    \n",
        "x = PrettyTable()\n",
        "\n",
        "x.field_names = [\"Advertisers\", \"Sports\", \"National\"]\n",
        "\n",
        "x.add_row([\"Geico\", 0.025, 0.06])\n",
        "x.add_row([\"Delta\", 0.02, 0.01])\n",
        "x.add_row([\"T-Mobile\", 0.01, 0.03])\n",
        "x.add_row([\"Capital One\", 0.0175, 0.02])\n",
        "print(x)"
      ],
      "execution_count": 50,
      "outputs": [
        {
          "output_type": "stream",
          "text": [
            "+-------------+---------+----------+\n",
            "| Advertisers |  Sports | National |\n",
            "+-------------+---------+----------+\n",
            "|    Geico    | 3000000 | 1000000  |\n",
            "|    Delta    |  928571 | 1071429  |\n",
            "|   T-Mobile  | 1000000 | 2000000  |\n",
            "| Capital One | 1071429 |  928571  |\n",
            "+-------------+---------+----------+\n",
            "+-------------+--------+----------+\n",
            "| Advertisers | Sports | National |\n",
            "+-------------+--------+----------+\n",
            "|    Geico    | 0.025  |   0.06   |\n",
            "|    Delta    |  0.02  |   0.01   |\n",
            "|   T-Mobile  |  0.01  |   0.03   |\n",
            "| Capital One | 0.0175 |   0.02   |\n",
            "+-------------+--------+----------+\n"
          ],
          "name": "stdout"
        }
      ]
    },
    {
      "metadata": {
        "id": "zuoETgLhGJfB",
        "colab_type": "text"
      },
      "cell_type": "markdown",
      "source": [
        "To The Washington Post,\n",
        "\n",
        "Based on our analysis, we have suggested optimal allocation of impressions for each company in each division. Based on the past history of advertisers and their CTRs, we have also come up with the maximum profit the company would achieve. \n",
        "\n",
        "However, this optimal allocation is calculated based on deterministic model. Since things vary over time, we have accounted for the changes in CTR. We have performed sensitivity analysis on the chnage of CTRfor every advertiser for each section.\n",
        "\n",
        "Our Type I sensitivity analysis suggests that, Geiko is more sensitive to CTR changes. WHen CTR rates go from 2% to 3% in Sports and 0.1% to 1.1% in National, the optimal revenue obtained is varying a lot. We suggest you made need to pay careful attention when CTR rates of Geiko changes. \n",
        "\n",
        "On the other hand, our Type II sensitivity analysis suggests that even though the CTR rates change, the allocations for each advertiser's each section doesn't vary much. To get into details you can refer to \"Section II: We are observing if the allocation changes, when the CTR changes.\" \n",
        "\n",
        "Based on the historical data of The Washington Post and the constraints you have given, we have created optimization model and performed optimization. However, this is only a suggestion from our side to allocate the impressions. It is finally the decision of your company to go ahead with it or not. As things change over time, we can only expect to happen in the way we predicted, nonetheless, we cannot assure it will be exactly the same.\n",
        "\n",
        "Please come back to us in case of any queries or further requirement.\n"
      ]
    },
    {
      "metadata": {
        "id": "HL4PxLYz16vQ",
        "colab_type": "text"
      },
      "cell_type": "markdown",
      "source": [
        "# Question 2: Operations Excellence of plants"
      ]
    },
    {
      "metadata": {
        "id": "CPoV7XW-d3u_",
        "colab_type": "text"
      },
      "cell_type": "markdown",
      "source": [
        "You operate two plants, i.e., A and B. Each plant makes two products, “standard” and “deluxe”. A unit of\n",
        "standard gives a profit contribution of \\\\$10, while a unit of deluxe gives a profit contribution of $15.\n",
        "\n",
        "Each plant uses two processes, grinding and polishing, for producing its products. Plant A has a grinding capacity of 80 hours per week and polishing capacity of 60 hours per week. For plant B, these capacities are 60 and 75 hours per week, respectively.\n",
        "The grinding and polishing times in hours for a unit of each type of product in each factory are as given below.\n",
        "\n",
        "For Plant A\n",
        "Standard Deluxe\n",
        "Grinding 4 2\n",
        "Polishing 2 5\n",
        "For Plant B\n",
        "Standard Deluxe\n",
        "Grinding 5 3\n",
        "Polishing 5 6\n",
        "\n",
        "It is possible, for example, that plant B has older machines than plant A, resulting in higher unit processing times. In addition, each unit of each product uses 4 kg of a raw material, which we refer to as raw. The company has 120 kg of raw available per week. To start with, we will assume that plant A is allocated 75 kg of raw per week and plant B the remaining 45 kg per week. Each plant can build a very simple linear programming model to maximize its profit contribution."
      ]
    },
    {
      "metadata": {
        "id": "WmESqL1QwlIC",
        "colab_type": "text"
      },
      "cell_type": "markdown",
      "source": [
        "### Import Libraries"
      ]
    },
    {
      "metadata": {
        "id": "p_r6qd00wovt",
        "colab_type": "code",
        "colab": {}
      },
      "cell_type": "code",
      "source": [
        "import math\n",
        "import numpy\n",
        "import cvxpy as cvx\n",
        "import numpy\n",
        "from prettytable import PrettyTable"
      ],
      "execution_count": 0,
      "outputs": []
    },
    {
      "metadata": {
        "id": "wrO8wJASwtVy",
        "colab_type": "text"
      },
      "cell_type": "markdown",
      "source": [
        "### Variable declaration"
      ]
    },
    {
      "metadata": {
        "id": "XxC5upI4wx0E",
        "colab_type": "code",
        "colab": {}
      },
      "cell_type": "code",
      "source": [
        "# number of products produced by each plant\n",
        "a1 = cvx.Variable(1, integer=True)# Standard from Plant A\n",
        "a2 = cvx.Variable(1, integer=True)# Deluxe from Plant A\n",
        "b1 = cvx.Variable(1, integer=True)# Standard from Plant B\n",
        "b2 = cvx.Variable(1, integer=True)# Deluxe from Plant B"
      ],
      "execution_count": 0,
      "outputs": []
    },
    {
      "metadata": {
        "id": "UPm1g4F7w02J",
        "colab_type": "text"
      },
      "cell_type": "markdown",
      "source": [
        "### Constraints"
      ]
    },
    {
      "metadata": {
        "id": "QVLO02f3w3IU",
        "colab_type": "code",
        "colab": {}
      },
      "cell_type": "code",
      "source": [
        "c1= a1 >= 0\n",
        "c2= a2 >= 0 \n",
        "c3= b1 >= 0 \n",
        "c4= b2 >= 0 \n",
        "c5= a1*4 + a2*2 <= 80\n",
        "c6= a1*2 + a2*5 <= 60\n",
        "c7= b1*5 + b2*3 <= 60\n",
        "c8= b1*5 + b2*6 <= 75\n",
        "c9= a1*4 + a2*4 <= 75\n",
        "c10= b1*4 + b2*4 <= 45\n",
        "\n",
        "con_A = [c1,c2,c5,c6,c9]\n",
        "con_B = [c3,c4,c7,c8,c10]\n",
        "con = [c1,c2,c3,c4,c5,c6,c7,c8,c9,c10]"
      ],
      "execution_count": 0,
      "outputs": []
    },
    {
      "metadata": {
        "id": "rXj1u6p0w8nx",
        "colab_type": "text"
      },
      "cell_type": "markdown",
      "source": [
        "### Objective"
      ]
    },
    {
      "metadata": {
        "id": "tQ7cfQvhw-TI",
        "colab_type": "code",
        "colab": {}
      },
      "cell_type": "code",
      "source": [
        "#objective\n",
        "\n",
        "std_price = 10 # price of standard product\n",
        "dlx_price = 15 # price of deluxe product\n",
        "\n",
        "OF_A = a1*std_price + a2*dlx_price\n",
        "OF_B = b1*std_price + b2*dlx_price\n",
        "OF = a1*std_price + a2*dlx_price + b1*std_price + b2*dlx_price\n",
        "\n",
        "objective_A = cvx.Maximize(OF_A)\n",
        "objective_B = cvx.Maximize(OF_B)\n",
        "objective = cvx.Maximize(OF)\n",
        "\n"
      ],
      "execution_count": 0,
      "outputs": []
    },
    {
      "metadata": {
        "id": "53rHK84LxC_Y",
        "colab_type": "text"
      },
      "cell_type": "markdown",
      "source": [
        "### Plant A: Maximum Revenue & Allocation"
      ]
    },
    {
      "metadata": {
        "id": "ElNZSlis2bq5",
        "colab_type": "code",
        "colab": {
          "base_uri": "https://localhost:8080/",
          "height": 187
        },
        "outputId": "873d3b2b-b4c5-4368-da06-c5e452c2b7c4"
      },
      "cell_type": "code",
      "source": [
        "#solving - Plant A\n",
        "prob_A = cvx.Problem(objective_A, con_A)\n",
        "result_A = prob_A.solve()\n",
        "print('\\nPLANT A')\n",
        "\n",
        "print('optimal revenue')\n",
        "print (int(np.round(prob_A.value)))\n",
        "    \n",
        "xa = PrettyTable()\n",
        "\n",
        "xa.field_names = [\"Product\", \"Plant A\"]\n",
        "\n",
        "xa.add_row([\"Standard\", int(np.round(a1.value))])\n",
        "xa.add_row([\"Deluxe\", int(np.round(a2.value))])\n",
        "\n",
        "print(xa)\n",
        "\n"
      ],
      "execution_count": 13,
      "outputs": [
        {
          "output_type": "stream",
          "text": [
            "\n",
            "PLANT A\n",
            "optimal revenue\n",
            "220\n",
            "+----------+---------+\n",
            "| Product  | Plant A |\n",
            "+----------+---------+\n",
            "| Standard |    10   |\n",
            "|  Deluxe  |    8    |\n",
            "+----------+---------+\n"
          ],
          "name": "stdout"
        }
      ]
    },
    {
      "metadata": {
        "id": "kyNZr6Lreb7_",
        "colab_type": "text"
      },
      "cell_type": "markdown",
      "source": [
        "To attain a maximum profit in Plant A, it should produce ten Standard products and eight Deluxe products. This would yield in a revenue of $220."
      ]
    },
    {
      "metadata": {
        "id": "fVSuqocXxNup",
        "colab_type": "text"
      },
      "cell_type": "markdown",
      "source": [
        "### Plant B: Maximum Revenue & Allocation"
      ]
    },
    {
      "metadata": {
        "id": "ghw97Il6xTe0",
        "colab_type": "code",
        "colab": {
          "base_uri": "https://localhost:8080/",
          "height": 187
        },
        "outputId": "9c9801f2-7f44-43a2-b69c-472f63748ca1"
      },
      "cell_type": "code",
      "source": [
        "#solving - Plant B\n",
        "prob_B = cvx.Problem(objective_B, con_B)\n",
        "result_B = prob_B.solve()\n",
        "\n",
        "print('\\nPLANT B')\n",
        "print('optimal revenue')\n",
        "print (int(np.round(prob_B.value)))\n",
        "\n",
        "xb = PrettyTable()\n",
        "\n",
        "xb.field_names = [\"Product\", \"Plant B\"]\n",
        "\n",
        "xb.add_row([\"Standard\", int(np.round(b1.value))])\n",
        "xb.add_row([\"Deluxe\", int(np.round(b2.value))])\n",
        "print(xb)"
      ],
      "execution_count": 12,
      "outputs": [
        {
          "output_type": "stream",
          "text": [
            "\n",
            "PLANT B\n",
            "optimal revenue\n",
            "165\n",
            "+----------+---------+\n",
            "| Product  | Plant B |\n",
            "+----------+---------+\n",
            "| Standard |    0    |\n",
            "|  Deluxe  |    11   |\n",
            "+----------+---------+\n"
          ],
          "name": "stdout"
        }
      ]
    },
    {
      "metadata": {
        "id": "09pPR_otepEb",
        "colab_type": "text"
      },
      "cell_type": "markdown",
      "source": [
        "To attain a maximum profit in Plant B, it should produce eleven Deluxe products. This would yield in a revenue of $165."
      ]
    },
    {
      "metadata": {
        "id": "01Adj7IvxUPj",
        "colab_type": "text"
      },
      "cell_type": "markdown",
      "source": [
        "### Analysis I: Plant A and Plant B: Maximum Revenue & Allocation"
      ]
    },
    {
      "metadata": {
        "id": "-V2p8fLRxd4y",
        "colab_type": "code",
        "colab": {
          "base_uri": "https://localhost:8080/",
          "height": 187
        },
        "outputId": "174c1ece-40df-46f3-8dd6-9544bdf891fb"
      },
      "cell_type": "code",
      "source": [
        "#solving - Plant A and B\n",
        "prob = cvx.Problem(objective, con)\n",
        "result = prob.solve()\n",
        "print('\\nPLANT A & B')\n",
        "print('optimal revenue')\n",
        "print (int(np.round(prob.value)))\n",
        "\n",
        "x = PrettyTable()\n",
        "\n",
        "x.field_names = [\"Product\", \"Plant A\", \"Plant B\"]\n",
        "\n",
        "x.add_row([\"Standard\", int(np.round(a1.value)), int(np.round(b1.value))])\n",
        "x.add_row([\"Deluxe\", int(np.round(a2.value)), int(np.round(b2.value))])\n",
        "print(x)"
      ],
      "execution_count": 14,
      "outputs": [
        {
          "output_type": "stream",
          "text": [
            "\n",
            "PLANT A & B\n",
            "optimal revenue\n",
            "385\n",
            "+----------+---------+---------+\n",
            "| Product  | Plant A | Plant B |\n",
            "+----------+---------+---------+\n",
            "| Standard |    10   |    0    |\n",
            "|  Deluxe  |    8    |    11   |\n",
            "+----------+---------+---------+\n"
          ],
          "name": "stdout"
        }
      ]
    },
    {
      "metadata": {
        "id": "ygVQEra5fiP7",
        "colab_type": "text"
      },
      "cell_type": "markdown",
      "source": [
        "Compared to the solution from individual plant profit contribution, the allocation are more or less same if they do not share raw material between them.\n"
      ]
    },
    {
      "metadata": {
        "id": "u-h-XXRexzh4",
        "colab_type": "text"
      },
      "cell_type": "markdown",
      "source": [
        "### Analysis II: Alternative Solution - sharing raw material"
      ]
    },
    {
      "metadata": {
        "id": "yXarfjA12fBv",
        "colab_type": "code",
        "colab": {
          "base_uri": "https://localhost:8080/",
          "height": 187
        },
        "outputId": "2f432653-edad-40b3-a23d-346a34a7507e"
      },
      "cell_type": "code",
      "source": [
        "#solving - Plant A and B\n",
        "\n",
        "# new constraint - sharing the raw material between A and B instead of allocating fixed amount to each plant\n",
        "c11 = 4*(a1+a2+b1+b2) <= 120\n",
        "con = [c1,c2,c3,c4,c5,c6,c7,c8,c11]\n",
        "prob = cvx.Problem(objective, con)\n",
        "result = prob.solve()\n",
        "print('\\nPLANT A & B')\n",
        "print('optimal revenue')\n",
        "print (int(np.round(prob.value)))\n",
        "\n",
        "x = PrettyTable()\n",
        "\n",
        "x.field_names = [\"Product\", \"Plant A\", \"Plant B\"]\n",
        "\n",
        "x.add_row([\"Standard\", int(np.round(a1.value)), int(np.round(b1.value))])\n",
        "x.add_row([\"Deluxe\", int(np.round(a2.value)), int(np.round(b2.value))])\n",
        "print(x)\n"
      ],
      "execution_count": 15,
      "outputs": [
        {
          "output_type": "stream",
          "text": [
            "\n",
            "PLANT A & B\n",
            "optimal revenue\n",
            "400\n",
            "+----------+---------+---------+\n",
            "| Product  | Plant A | Plant B |\n",
            "+----------+---------+---------+\n",
            "| Standard |    10   |    0    |\n",
            "|  Deluxe  |    8    |    12   |\n",
            "+----------+---------+---------+\n"
          ],
          "name": "stdout"
        }
      ]
    },
    {
      "metadata": {
        "id": "8oEOT23WgO9g",
        "colab_type": "text"
      },
      "cell_type": "markdown",
      "source": [
        "If they share raw material, their revenue increases from \\\\$385 to $400.\n",
        "\n"
      ]
    },
    {
      "metadata": {
        "id": "KKsQd6jwyWhA",
        "colab_type": "text"
      },
      "cell_type": "markdown",
      "source": [
        "### Analysis III: Better Solution - Unlimited supply of raw material"
      ]
    },
    {
      "metadata": {
        "id": "qPKVobjIyZ_T",
        "colab_type": "code",
        "colab": {
          "base_uri": "https://localhost:8080/",
          "height": 187
        },
        "outputId": "5161a286-5108-4e16-c873-0e7d9f27142e"
      },
      "cell_type": "code",
      "source": [
        "\n",
        "#solving - Plant A and B\n",
        "# removing the constraint on raw material\n",
        "# if company is able to provide infinite amount of raw material to both plants\n",
        "con = [c1,c2,c3,c4,c5,c6,c7,c8]\n",
        "prob = cvx.Problem(objective, con)\n",
        "result = prob.solve()\n",
        "print('\\nPLANT A & B')\n",
        "print('optimal revenue')\n",
        "print (int(np.round(prob.value)))\n",
        "\n",
        "x = PrettyTable()\n",
        "\n",
        "x.field_names = [\"Product\", \"Plant A\", \"Plant B\"]\n",
        "\n",
        "x.add_row([\"Standard\", int(np.round(a1.value)), int(np.round(b1.value))])\n",
        "x.add_row([\"Deluxe\", int(np.round(a2.value)), int(np.round(b2.value))])\n",
        "print(x)"
      ],
      "execution_count": 16,
      "outputs": [
        {
          "output_type": "stream",
          "text": [
            "\n",
            "PLANT A & B\n",
            "optimal revenue\n",
            "425\n",
            "+----------+---------+---------+\n",
            "| Product  | Plant A | Plant B |\n",
            "+----------+---------+---------+\n",
            "| Standard |    17   |    0    |\n",
            "|  Deluxe  |    5    |    12   |\n",
            "+----------+---------+---------+\n"
          ],
          "name": "stdout"
        }
      ]
    },
    {
      "metadata": {
        "id": "_8Ub58G3K2Qg",
        "colab_type": "text"
      },
      "cell_type": "markdown",
      "source": [
        "Based on the constraints we have received, we have created our optimization model and perofrmed optimization. We have done three types of analysis pertaining to different conditions and I would love to go over them one by one. Each of the analysis differes the way raw material is distributed among the two plants A and B.\n",
        "\n",
        "In our first analysis, we have created our constraints based on \"strict allocation.\" When Plant A and B are given 75 and 45 raw material each, we are able to see a profit of $385. Please refer to Analysis I for the allocation details.\n",
        "\n",
        "In our second analysis, we have created our constraints based on \"sharing resources.\" When Plant A and B are together given 120 amount of raw material we are able to see a profit of $400. Please refer to Analysis II for the allocation details. \n",
        "\n",
        "In our final analysis, we have created our constraints based on \"unlimited supply.\" When Plant A and B are given unlimited supply of raw materials, we are able to see a profit of $425. Please refer to Analysis III for the allocation details.\n",
        "\n",
        "We ran the above three analysis to find the optimal solution using our optimization model by changing our constraints. If you can purchase 136 quantities of raw materials and give 68 to each plant A and Plant B, they can make complete use of the resources allocated to them and be return maximum profit. \n",
        "\n",
        "Let us know how much more raw materials you could purchase, so that we can run our model with the new constraints and provide better results."
      ]
    },
    {
      "metadata": {
        "id": "Lb3R6zuC97Cn",
        "colab_type": "text"
      },
      "cell_type": "markdown",
      "source": [
        "# Question 3: Hotel La Quinta Motor Inns (LQM)"
      ]
    },
    {
      "metadata": {
        "id": "jb8PB_3ejHV_",
        "colab_type": "text"
      },
      "cell_type": "markdown",
      "source": [
        "La Quinta Motors are planning to purchase some hotels in California. They have a budget of 10 million. They want to purchase hotels that would yield them maximum profit. \n",
        "\n",
        "Hotels have different prices and profitabilities. We need to suggest an optimal solution LQM that suggests which hotels they should buy maximising their profit."
      ]
    },
    {
      "metadata": {
        "id": "WQUmWxBE9_dk",
        "colab_type": "text"
      },
      "cell_type": "markdown",
      "source": [
        "### Import libraries"
      ]
    },
    {
      "metadata": {
        "id": "-486C7z_zQWq",
        "colab_type": "code",
        "colab": {}
      },
      "cell_type": "code",
      "source": [
        "import pandas as pd\n",
        "import numpy as np\n",
        "import math\n",
        "import cvxpy as cvx\n",
        "from numpy import matrix \n",
        "from cvxpy import *\n",
        "from prettytable import PrettyTable"
      ],
      "execution_count": 0,
      "outputs": []
    },
    {
      "metadata": {
        "id": "c2pimoBszaj3",
        "colab_type": "text"
      },
      "cell_type": "markdown",
      "source": [
        "### Reading input from file"
      ]
    },
    {
      "metadata": {
        "id": "GZ0k_DE9JP3F",
        "colab_type": "text"
      },
      "cell_type": "markdown",
      "source": [
        "Using the below formula to calculate profitability.\n",
        "\n",
        "𝑃𝑟𝑜𝑓𝑖𝑡𝑎𝑏𝑖𝑙𝑖𝑡𝑦 = 39.05 − 5.41×𝑆𝑡𝑎𝑡𝑒 𝑃𝑜𝑝𝑢𝑙𝑎𝑡𝑖𝑜𝑛 𝑝𝑒𝑟 𝐼𝑛𝑛 + \n",
        "5.86×𝑃𝑟𝑖𝑐𝑒 𝑜𝑓 𝑡ℎ𝑒 𝐼𝑛𝑛\n",
        "− 3.09×𝑆𝑞𝑢𝑎𝑟𝑒 𝑅𝑜𝑜𝑡 𝑜𝑓 𝑡ℎ𝑒 𝑀𝑒𝑑𝑖𝑎𝑛 𝐼𝑛𝑐𝑜𝑚𝑒 𝑖𝑛 𝑡ℎ𝑒 𝑎𝑟𝑒𝑎 + \n",
        "1.75×𝐶𝑜𝑙𝑙𝑒𝑔𝑒 𝑆𝑡𝑢𝑑𝑒𝑛𝑡𝑠 𝑖𝑛 𝑡ℎ𝑒 𝐴𝑟𝑒𝑎\n",
        "                                    \n",
        "\n",
        "Profitability is calculated in excel sheet that is attached. The rows are sorting with the profitability value in their descending order.\n"
      ]
    },
    {
      "metadata": {
        "id": "INmCskwGze87",
        "colab_type": "code",
        "colab": {}
      },
      "cell_type": "code",
      "source": [
        "url = 'https://raw.github.com/krithikaceg/Optimization/master/SelectingHotels%20%20MSBA.xlsx'\n",
        "input_df = pd.read_excel(url)\n",
        "hotel_list = input_df['Hotel'].tolist()\n",
        "price_list = input_df['Price'].tolist()\n",
        "profitability_list = input_df['Profitability'].tolist()\n",
        "city_list =  input_df['Location'].tolist()\n",
        "\n",
        "# creating cvx variable\n",
        "x = cvx.Variable(16, boolean=True) # define a vector of n Boolean variables, i.e., x_i={0,1}  "
      ],
      "execution_count": 0,
      "outputs": []
    },
    {
      "metadata": {
        "id": "yiVmMKZ_Oq7q",
        "colab_type": "text"
      },
      "cell_type": "markdown",
      "source": [
        "### Data computed from input file"
      ]
    },
    {
      "metadata": {
        "id": "E8LzZVnrR4fd",
        "colab_type": "code",
        "colab": {
          "base_uri": "https://localhost:8080/",
          "height": 970
        },
        "outputId": "f48b823e-058e-42b5-e9c3-8bb76aad88b5"
      },
      "cell_type": "code",
      "source": [
        "input_df"
      ],
      "execution_count": 4,
      "outputs": [
        {
          "output_type": "execute_result",
          "data": {
            "text/html": [
              "<div>\n",
              "<style scoped>\n",
              "    .dataframe tbody tr th:only-of-type {\n",
              "        vertical-align: middle;\n",
              "    }\n",
              "\n",
              "    .dataframe tbody tr th {\n",
              "        vertical-align: top;\n",
              "    }\n",
              "\n",
              "    .dataframe thead th {\n",
              "        text-align: right;\n",
              "    }\n",
              "</style>\n",
              "<table border=\"1\" class=\"dataframe\">\n",
              "  <thead>\n",
              "    <tr style=\"text-align: right;\">\n",
              "      <th></th>\n",
              "      <th>Hotel</th>\n",
              "      <th>Location</th>\n",
              "      <th>Price</th>\n",
              "      <th>Price (normalized)</th>\n",
              "      <th>Square Root of Median Income (normalized)</th>\n",
              "      <th>College Students in Area (normalized)</th>\n",
              "      <th>State Population Per Inn (normalized)</th>\n",
              "      <th>Profitability</th>\n",
              "    </tr>\n",
              "  </thead>\n",
              "  <tbody>\n",
              "    <tr>\n",
              "      <th>0</th>\n",
              "      <td>2</td>\n",
              "      <td>Fresno, California</td>\n",
              "      <td>10000000</td>\n",
              "      <td>1.699076</td>\n",
              "      <td>-0.408199</td>\n",
              "      <td>0.311669</td>\n",
              "      <td>-0.474279</td>\n",
              "      <td>53.38</td>\n",
              "    </tr>\n",
              "    <tr>\n",
              "      <th>1</th>\n",
              "      <td>6</td>\n",
              "      <td>Long Beach, California</td>\n",
              "      <td>8950000</td>\n",
              "      <td>1.402123</td>\n",
              "      <td>0.657845</td>\n",
              "      <td>0.483711</td>\n",
              "      <td>-0.557278</td>\n",
              "      <td>49.10</td>\n",
              "    </tr>\n",
              "    <tr>\n",
              "      <th>2</th>\n",
              "      <td>1</td>\n",
              "      <td>Eureka, California</td>\n",
              "      <td>2925000</td>\n",
              "      <td>-0.301823</td>\n",
              "      <td>-0.812780</td>\n",
              "      <td>-0.536413</td>\n",
              "      <td>-0.995987</td>\n",
              "      <td>44.24</td>\n",
              "    </tr>\n",
              "    <tr>\n",
              "      <th>3</th>\n",
              "      <td>3</td>\n",
              "      <td>Fresno, California</td>\n",
              "      <td>3750000</td>\n",
              "      <td>-0.068503</td>\n",
              "      <td>-0.408199</td>\n",
              "      <td>0.311669</td>\n",
              "      <td>-0.474279</td>\n",
              "      <td>43.02</td>\n",
              "    </tr>\n",
              "    <tr>\n",
              "      <th>4</th>\n",
              "      <td>4</td>\n",
              "      <td>Fresno, California</td>\n",
              "      <td>3500000</td>\n",
              "      <td>-0.139206</td>\n",
              "      <td>-0.408199</td>\n",
              "      <td>0.311669</td>\n",
              "      <td>-0.474279</td>\n",
              "      <td>42.61</td>\n",
              "    </tr>\n",
              "    <tr>\n",
              "      <th>5</th>\n",
              "      <td>14</td>\n",
              "      <td>South Lake Tahoe, California</td>\n",
              "      <td>3750000</td>\n",
              "      <td>-0.068503</td>\n",
              "      <td>-0.791006</td>\n",
              "      <td>-0.594905</td>\n",
              "      <td>-0.426851</td>\n",
              "      <td>42.36</td>\n",
              "    </tr>\n",
              "    <tr>\n",
              "      <th>6</th>\n",
              "      <td>12</td>\n",
              "      <td>South Lake Tahoe, California</td>\n",
              "      <td>2500000</td>\n",
              "      <td>-0.422019</td>\n",
              "      <td>-0.791006</td>\n",
              "      <td>-0.594905</td>\n",
              "      <td>-0.426851</td>\n",
              "      <td>40.29</td>\n",
              "    </tr>\n",
              "    <tr>\n",
              "      <th>7</th>\n",
              "      <td>13</td>\n",
              "      <td>South Lake Tahoe, California</td>\n",
              "      <td>1975000</td>\n",
              "      <td>-0.570495</td>\n",
              "      <td>-0.791006</td>\n",
              "      <td>-0.594905</td>\n",
              "      <td>-0.426851</td>\n",
              "      <td>39.42</td>\n",
              "    </tr>\n",
              "    <tr>\n",
              "      <th>8</th>\n",
              "      <td>10</td>\n",
              "      <td>South Lake Tahoe, California</td>\n",
              "      <td>1650000</td>\n",
              "      <td>-0.662409</td>\n",
              "      <td>-0.791006</td>\n",
              "      <td>-0.594905</td>\n",
              "      <td>-0.426851</td>\n",
              "      <td>38.88</td>\n",
              "    </tr>\n",
              "    <tr>\n",
              "      <th>9</th>\n",
              "      <td>15</td>\n",
              "      <td>South Lake Tahoe, California</td>\n",
              "      <td>1475000</td>\n",
              "      <td>-0.711902</td>\n",
              "      <td>-0.791006</td>\n",
              "      <td>-0.594905</td>\n",
              "      <td>-0.426851</td>\n",
              "      <td>38.59</td>\n",
              "    </tr>\n",
              "    <tr>\n",
              "      <th>10</th>\n",
              "      <td>11</td>\n",
              "      <td>South Lake Tahoe, California</td>\n",
              "      <td>1125000</td>\n",
              "      <td>-0.810886</td>\n",
              "      <td>-0.791006</td>\n",
              "      <td>-0.594905</td>\n",
              "      <td>-0.426851</td>\n",
              "      <td>38.01</td>\n",
              "    </tr>\n",
              "    <tr>\n",
              "      <th>11</th>\n",
              "      <td>16</td>\n",
              "      <td>South Lake Tahoe, California</td>\n",
              "      <td>750000</td>\n",
              "      <td>-0.916941</td>\n",
              "      <td>-0.791006</td>\n",
              "      <td>-0.594905</td>\n",
              "      <td>-0.426851</td>\n",
              "      <td>37.39</td>\n",
              "    </tr>\n",
              "    <tr>\n",
              "      <th>12</th>\n",
              "      <td>5</td>\n",
              "      <td>Fresno, California</td>\n",
              "      <td>325000</td>\n",
              "      <td>-1.037136</td>\n",
              "      <td>-0.408199</td>\n",
              "      <td>0.311669</td>\n",
              "      <td>-0.474279</td>\n",
              "      <td>37.34</td>\n",
              "    </tr>\n",
              "    <tr>\n",
              "      <th>13</th>\n",
              "      <td>9</td>\n",
              "      <td>Los Angeles, California</td>\n",
              "      <td>4900000</td>\n",
              "      <td>0.256732</td>\n",
              "      <td>0.167686</td>\n",
              "      <td>3.106215</td>\n",
              "      <td>3.106530</td>\n",
              "      <td>28.67</td>\n",
              "    </tr>\n",
              "    <tr>\n",
              "      <th>14</th>\n",
              "      <td>7</td>\n",
              "      <td>Los Angeles, California</td>\n",
              "      <td>1950000</td>\n",
              "      <td>-0.577566</td>\n",
              "      <td>0.167686</td>\n",
              "      <td>3.106215</td>\n",
              "      <td>3.106530</td>\n",
              "      <td>23.78</td>\n",
              "    </tr>\n",
              "    <tr>\n",
              "      <th>15</th>\n",
              "      <td>8</td>\n",
              "      <td>Los Angeles, California</td>\n",
              "      <td>1750000</td>\n",
              "      <td>-0.634128</td>\n",
              "      <td>0.167686</td>\n",
              "      <td>3.106215</td>\n",
              "      <td>3.106530</td>\n",
              "      <td>23.45</td>\n",
              "    </tr>\n",
              "  </tbody>\n",
              "</table>\n",
              "</div>"
            ],
            "text/plain": [
              "    Hotel                      Location     Price  Price (normalized)  \\\n",
              "0       2            Fresno, California  10000000            1.699076   \n",
              "1       6        Long Beach, California   8950000            1.402123   \n",
              "2       1            Eureka, California   2925000           -0.301823   \n",
              "3       3            Fresno, California   3750000           -0.068503   \n",
              "4       4            Fresno, California   3500000           -0.139206   \n",
              "5      14  South Lake Tahoe, California   3750000           -0.068503   \n",
              "6      12  South Lake Tahoe, California   2500000           -0.422019   \n",
              "7      13  South Lake Tahoe, California   1975000           -0.570495   \n",
              "8      10  South Lake Tahoe, California   1650000           -0.662409   \n",
              "9      15  South Lake Tahoe, California   1475000           -0.711902   \n",
              "10     11  South Lake Tahoe, California   1125000           -0.810886   \n",
              "11     16  South Lake Tahoe, California    750000           -0.916941   \n",
              "12      5            Fresno, California    325000           -1.037136   \n",
              "13      9       Los Angeles, California   4900000            0.256732   \n",
              "14      7       Los Angeles, California   1950000           -0.577566   \n",
              "15      8       Los Angeles, California   1750000           -0.634128   \n",
              "\n",
              "    Square Root of Median Income (normalized)  \\\n",
              "0                                   -0.408199   \n",
              "1                                    0.657845   \n",
              "2                                   -0.812780   \n",
              "3                                   -0.408199   \n",
              "4                                   -0.408199   \n",
              "5                                   -0.791006   \n",
              "6                                   -0.791006   \n",
              "7                                   -0.791006   \n",
              "8                                   -0.791006   \n",
              "9                                   -0.791006   \n",
              "10                                  -0.791006   \n",
              "11                                  -0.791006   \n",
              "12                                  -0.408199   \n",
              "13                                   0.167686   \n",
              "14                                   0.167686   \n",
              "15                                   0.167686   \n",
              "\n",
              "    College Students in Area (normalized)  \\\n",
              "0                                0.311669   \n",
              "1                                0.483711   \n",
              "2                               -0.536413   \n",
              "3                                0.311669   \n",
              "4                                0.311669   \n",
              "5                               -0.594905   \n",
              "6                               -0.594905   \n",
              "7                               -0.594905   \n",
              "8                               -0.594905   \n",
              "9                               -0.594905   \n",
              "10                              -0.594905   \n",
              "11                              -0.594905   \n",
              "12                               0.311669   \n",
              "13                               3.106215   \n",
              "14                               3.106215   \n",
              "15                               3.106215   \n",
              "\n",
              "    State Population Per Inn (normalized)  Profitability  \n",
              "0                               -0.474279          53.38  \n",
              "1                               -0.557278          49.10  \n",
              "2                               -0.995987          44.24  \n",
              "3                               -0.474279          43.02  \n",
              "4                               -0.474279          42.61  \n",
              "5                               -0.426851          42.36  \n",
              "6                               -0.426851          40.29  \n",
              "7                               -0.426851          39.42  \n",
              "8                               -0.426851          38.88  \n",
              "9                               -0.426851          38.59  \n",
              "10                              -0.426851          38.01  \n",
              "11                              -0.426851          37.39  \n",
              "12                              -0.474279          37.34  \n",
              "13                               3.106530          28.67  \n",
              "14                               3.106530          23.78  \n",
              "15                               3.106530          23.45  "
            ]
          },
          "metadata": {
            "tags": []
          },
          "execution_count": 4
        }
      ]
    },
    {
      "metadata": {
        "id": "1Qeip6tULE2w",
        "colab_type": "text"
      },
      "cell_type": "markdown",
      "source": [
        "### Variables affecting profitability"
      ]
    },
    {
      "metadata": {
        "id": "-1xtel6XLJk9",
        "colab_type": "text"
      },
      "cell_type": "markdown",
      "source": [
        "Part 1.\n",
        "\n",
        "From the above equation, 𝑃𝑟𝑖𝑐𝑒 𝑜𝑓 𝑡ℎ𝑒 𝐼𝑛𝑛 affects profitability positively, whereas 𝑆𝑡𝑎𝑡𝑒 𝑃𝑜𝑝𝑢𝑙𝑎𝑡𝑖𝑜𝑛 𝑝𝑒𝑟 𝐼𝑛𝑛 affect profotability negatively. While they make the biggest impact, other variables such as 𝐶𝑜𝑙𝑙𝑒𝑔𝑒 𝑆𝑡𝑢𝑑𝑒𝑛𝑡𝑠 𝑖𝑛 𝑡ℎ𝑒 𝐴𝑟𝑒𝑎 affects profotability positively, while 𝑆𝑞𝑢𝑎𝑟𝑒 𝑅𝑜𝑜𝑡 𝑜𝑓 𝑡ℎ𝑒 𝑀𝑒𝑑𝑖𝑎𝑛 𝐼𝑛𝑐𝑜𝑚𝑒 𝑖𝑛 𝑡ℎ𝑒 𝑎𝑟𝑒𝑎 affect the profitability negatively.\n",
        "\n",
        "𝑃𝑟𝑖𝑐𝑒 𝑜𝑓 𝑡ℎ𝑒 𝐼𝑛𝑛 can directly contribute to the profit as long it is not over-priced. \n",
        "\n",
        "State population per inn = State population/ number of inns in that place.\n",
        "\n",
        "Since all of these hotels are in California, state population is a constant value across all the hotels in California state. So, it is the number of inns in that place that distinguishes one place from the other. (Hotels belonging to the same place has same State population per inn value.) Hence, if the state population per inn value is more, the number of inns is less in that place.\n",
        "\n",
        "The Number of inns in that place increases with increase in people staying in that place. When the number of inns in the state is less, that implies the number of people staying is less, hence the profitability is less and vice versa.\n",
        "\n"
      ]
    },
    {
      "metadata": {
        "id": "848y_R35V6f2",
        "colab_type": "text"
      },
      "cell_type": "markdown",
      "source": [
        "Part 2.\n",
        "Based on the formula used in the excel, the highest profitability is from Hotel #2, Fresno, California, whereas the lowest profitability is from Hotel #8, Los Angeles, California."
      ]
    },
    {
      "metadata": {
        "id": "PVqIAD2SVtWm",
        "colab_type": "code",
        "colab": {
          "base_uri": "https://localhost:8080/",
          "height": 51
        },
        "outputId": "7bf11a88-a3b3-4587-e8f3-22c63d2272b7"
      },
      "cell_type": "code",
      "source": [
        "print(\"Maximum Profitable hotel: %s\" %hotel_list[np.argmax(profitability_list)])\n",
        "#print(hotel_list[np.argmax(profitability_list)])\n",
        "print(\"Minimum Profitable hotel: %s\" %hotel_list[np.argmin(profitability_list)])"
      ],
      "execution_count": 34,
      "outputs": [
        {
          "output_type": "stream",
          "text": [
            "Maximum Profitable hotel: 2\n",
            "Minimum Profitable hotel: 8\n"
          ],
          "name": "stdout"
        }
      ]
    },
    {
      "metadata": {
        "id": "_7JEM7mMYM4e",
        "colab_type": "text"
      },
      "cell_type": "markdown",
      "source": [
        "Part 3:\n",
        "Using the greedy approach, we choose from the most profitable hotel until we run out of budget. \n",
        "\n",
        "In that case, if we are given 10million, we would choose only one hotel: Hotel #2.\n",
        "\n",
        "Sum of predicted profitability is 53.38\n",
        "\n",
        "If we are trying to maximize our total predicted profitability, is this \"not\" a good approach. If we were trying to maximise the average profitability of the hotels purchsed, we would want to minimise the variance between the profitability of the hotels.\n",
        "\n",
        "If we were given 20 million, the hotels purchased yielding higher total predicted profitability would be, hotels numbers: 0, 1, 11"
      ]
    },
    {
      "metadata": {
        "id": "rDeHPJrhZb7e",
        "colab_type": "code",
        "colab": {
          "base_uri": "https://localhost:8080/",
          "height": 34
        },
        "outputId": "de0ff50b-e58c-4ca3-ad82-ed8e37fcec5d"
      },
      "cell_type": "code",
      "source": [
        "budget = 20000000\n",
        "hotels = []\n",
        "for i in range(len(price_list)):\n",
        "  balance_budget = budget - price_list[i]\n",
        "  if (balance_budget > 0):\n",
        "    hotels.append(i)\n",
        "    budget = balance_budget\n",
        "print(hotels)"
      ],
      "execution_count": 37,
      "outputs": [
        {
          "output_type": "stream",
          "text": [
            "[0, 1, 11]\n"
          ],
          "name": "stdout"
        }
      ]
    },
    {
      "metadata": {
        "id": "dSk-zrpkzdHY",
        "colab_type": "text"
      },
      "cell_type": "markdown",
      "source": [
        "### Constraints"
      ]
    },
    {
      "metadata": {
        "id": "iOXuBTuczoUL",
        "colab_type": "code",
        "colab": {}
      },
      "cell_type": "code",
      "source": [
        "c1 = sum(price_list*x) <= 10000000\n",
        "con = [c1]"
      ],
      "execution_count": 0,
      "outputs": []
    },
    {
      "metadata": {
        "id": "PD_7Ymrtz9YO",
        "colab_type": "text"
      },
      "cell_type": "markdown",
      "source": [
        "### Objective Function"
      ]
    },
    {
      "metadata": {
        "id": "ejDE7bA4z_Hu",
        "colab_type": "code",
        "colab": {}
      },
      "cell_type": "code",
      "source": [
        "obj1 = cvx.Maximize(sum(profitability_list*x))"
      ],
      "execution_count": 0,
      "outputs": []
    },
    {
      "metadata": {
        "id": "atPLBZu10T__",
        "colab_type": "text"
      },
      "cell_type": "markdown",
      "source": [
        "### Maximum Profitability"
      ]
    },
    {
      "metadata": {
        "id": "CnSQpLC40XEf",
        "colab_type": "code",
        "colab": {
          "base_uri": "https://localhost:8080/",
          "height": 51
        },
        "outputId": "dbc06240-fa2a-4c1a-b9e8-c5241faf078b"
      },
      "cell_type": "code",
      "source": [
        "prob = cvx.Problem(obj1, con)\n",
        "result = prob.solve()\n",
        "\n",
        "print('Maximum profitability')\n",
        "print(round(prob.value))"
      ],
      "execution_count": 22,
      "outputs": [
        {
          "output_type": "stream",
          "text": [
            "Maximum profitability\n",
            "270.0\n"
          ],
          "name": "stdout"
        }
      ]
    },
    {
      "metadata": {
        "id": "d2Da2WUlbFDt",
        "colab_type": "text"
      },
      "cell_type": "markdown",
      "source": [
        "### Hotels Chosen"
      ]
    },
    {
      "metadata": {
        "id": "GUty7uno1GA_",
        "colab_type": "code",
        "colab": {
          "base_uri": "https://localhost:8080/",
          "height": 51
        },
        "outputId": "1b1e40e8-c737-4996-ebce-062e3a028383"
      },
      "cell_type": "code",
      "source": [
        "np.around(x.value)"
      ],
      "execution_count": 38,
      "outputs": [
        {
          "output_type": "execute_result",
          "data": {
            "text/plain": [
              "array([-0., -0.,  0.,  0.,  0.,  0.,  1.,  1.,  1.,  1.,  1.,  1.,  1.,\n",
              "        0.,  0.,  0.])"
            ]
          },
          "metadata": {
            "tags": []
          },
          "execution_count": 38
        }
      ]
    },
    {
      "metadata": {
        "id": "veAlue6jUYNY",
        "colab_type": "code",
        "colab": {
          "base_uri": "https://localhost:8080/",
          "height": 221
        },
        "outputId": "64d375fc-2b41-4651-c777-5f3f86e174e4"
      },
      "cell_type": "code",
      "source": [
        "pt = PrettyTable()\n",
        "\n",
        "print('Hotels that are chosen')\n",
        "\n",
        "pt.field_names = [\"Hotel\", \"City\"]\n",
        "for i in range(16):\n",
        "  if (x[i].value > 0.99):\n",
        "    pt.add_row([hotel_list[i], city_list[i]])\n",
        "\n",
        "print(pt)"
      ],
      "execution_count": 24,
      "outputs": [
        {
          "output_type": "stream",
          "text": [
            "Hotels that are chosen\n",
            "+-------+------------------------------+\n",
            "| Hotel |             City             |\n",
            "+-------+------------------------------+\n",
            "|   12  | South Lake Tahoe, California |\n",
            "|   13  | South Lake Tahoe, California |\n",
            "|   10  | South Lake Tahoe, California |\n",
            "|   15  | South Lake Tahoe, California |\n",
            "|   11  | South Lake Tahoe, California |\n",
            "|   16  | South Lake Tahoe, California |\n",
            "|   5   |      Fresno, California      |\n",
            "+-------+------------------------------+\n"
          ],
          "name": "stdout"
        }
      ]
    },
    {
      "metadata": {
        "id": "0Su_8vE7bLkp",
        "colab_type": "text"
      },
      "cell_type": "markdown",
      "source": [
        "Yes, it definitely is better than greedy solution. While we are trying to stick within our budget, we are also trying to find the optimal solution that maximises our profit. \n",
        "With the greedy solution, we achieved a profit of 53.38, whereas with the optimization we could achieve 270 with the same budget.\n",
        "\n",
        "Optimization helps us to invest our money in the best possible way that yields us higher profit."
      ]
    },
    {
      "metadata": {
        "id": "lK6VjxYib60Q",
        "colab_type": "text"
      },
      "cell_type": "markdown",
      "source": [
        "### Restricting the number of hotels in each city"
      ]
    },
    {
      "metadata": {
        "id": "6kwXUV5Ccfut",
        "colab_type": "text"
      },
      "cell_type": "markdown",
      "source": [
        "Since LQM has decided to buy utmost two hotels in any place, we are adding extra constrints to perform that check while arriving at the optimal solution. This extra checks would yield us lesser profit compared to the optimal solution without these constraints and it is totally sensible."
      ]
    },
    {
      "metadata": {
        "id": "sVyAGIK3343k",
        "colab_type": "code",
        "colab": {}
      },
      "cell_type": "code",
      "source": [
        "c2=((city_list[5]==\"South Lake Tahoe, California\")*x[5] + \n",
        "    (city_list[6]==\"South Lake Tahoe, California\")*x[6] + \n",
        "    (city_list[7]==\"South Lake Tahoe, California\")*x[7] + \n",
        "    (city_list[8]==\"South Lake Tahoe, California\")*x[8] + \n",
        "    (city_list[9]==\"South Lake Tahoe, California\")*x[9] + \n",
        "    (city_list[10]==\"South Lake Tahoe, California\")*x[10] + \n",
        "    (city_list[11]==\"South Lake Tahoe, California\")*x[11] \n",
        "   )<=2\n",
        "c3=((city_list[0]=='Fresno, California')*x[0] + \n",
        "    (city_list[3]=='Fresno, California')*x[3] + \n",
        "    (city_list[4]=='Fresno, California')*x[4] + \n",
        "    (city_list[12]=='Fresno, California')*x[12] \n",
        "   )<=2\n",
        "c4=((city_list[13]=='Los Angeles, California')*x[13] + \n",
        "    (city_list[14]=='Los Angeles, California')*x[14] + \n",
        "    (city_list[15]=='Los Angeles, California')*x[15] \n",
        "   )<=2\n",
        "con = [c1, c2, c3, c4]"
      ],
      "execution_count": 0,
      "outputs": []
    },
    {
      "metadata": {
        "id": "qSNHdeaT3_wU",
        "colab_type": "code",
        "colab": {
          "base_uri": "https://localhost:8080/",
          "height": 238
        },
        "outputId": "279244a9-77ea-486c-8ff5-02ec3d3e3fef"
      },
      "cell_type": "code",
      "source": [
        "prob = cvx.Problem(obj1, con)\n",
        "result = prob.solve()\n",
        "\n",
        "pt = PrettyTable()\n",
        "\n",
        "print('Hotels that are chosen')\n",
        "\n",
        "pt.field_names = [\"Hotel\", \"City\"]\n",
        "for i in range(16):\n",
        "  if (x[i].value > 0.99):\n",
        "    pt.add_row([hotel_list[i], city_list[i]])\n",
        "\n",
        "print(pt)\n",
        "\n",
        "print('Maximum profitability')\n",
        "print(round(prob.value))"
      ],
      "execution_count": 26,
      "outputs": [
        {
          "output_type": "stream",
          "text": [
            "Hotels that are chosen\n",
            "+-------+------------------------------+\n",
            "| Hotel |             City             |\n",
            "+-------+------------------------------+\n",
            "|   1   |      Eureka, California      |\n",
            "|   10  | South Lake Tahoe, California |\n",
            "|   11  | South Lake Tahoe, California |\n",
            "|   5   |      Fresno, California      |\n",
            "|   7   |   Los Angeles, California    |\n",
            "|   8   |   Los Angeles, California    |\n",
            "+-------+------------------------------+\n",
            "Maximum profitability\n",
            "206.0\n"
          ],
          "name": "stdout"
        }
      ]
    },
    {
      "metadata": {
        "id": "elu1Zt1kc6yE",
        "colab_type": "text"
      },
      "cell_type": "markdown",
      "source": [
        "As expected, the profit from optimal solution with constraints is lesser than the one from optimal solution without constraints. Since it is a business decision that LQM has decided not to buy more that two hotels in a place, we suggest what those hotels should be."
      ]
    },
    {
      "metadata": {
        "id": "tVuSD2H3ONRB",
        "colab_type": "text"
      },
      "cell_type": "markdown",
      "source": [
        "To La Quinta Motors,\n",
        "\n",
        "Greetings! Congratulations on your recent budget allocation to purchase new hotels.\n",
        "\n",
        "Based on the data and the constraints you have given us, we have calculated the profitability. Please find the data computed from the excel sheet in the above section 'Data computed from input file.' This data is sorted based on the proftiability of the hotels.\n",
        "\n",
        "As you can see, Hotel #2 is the most profitable one, but also the most expensive one. If you are planning to invest all your 10 million budget in purchasing that hotel, you end up in $53.38 profit. However, we have built our optimization model that will help you choose more number of hotels within 10 million budget resulting in maximum profit.Based on your different constraints, we have developed different models.\n",
        "\n",
        "First, this model returned us the following hotels: 5, 10, 11, 12, 13, 15, 16. This combination will fit within 10 million and at the same time, they give the maximum expected total profit. Even though this is a good combination, we found that  majority of the hotels are being purchased in South Lake Tahoe, California.\n",
        "\n",
        "After considering your suggestion, we have added an extra constraint that would restrict the number of hotels in any place to two. With this constarint, we have arrived at the following hotels: 1, 5, 7, 8, 10, 11. These hotels are present totally in four areas and we strongly believe that this will help LQM expand business in different places.\n",
        "\n",
        "This is the best possible suggestion we have arrived using the constraints you have given and your budget. However, if your constarints or budget change, please keep us informed. We can help you anytime!\n",
        "\n",
        "\n",
        "\n",
        "\n",
        "\n"
      ]
    }
  ]
}