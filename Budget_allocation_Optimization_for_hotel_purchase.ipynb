{
  "nbformat": 4,
  "nbformat_minor": 0,
  "metadata": {
    "colab": {
      "name": "Budget allocation Optimization for hotel purchase.ipynb",
      "version": "0.3.2",
      "provenance": []
    },
    "kernelspec": {
      "name": "python3",
      "display_name": "Python 3"
    }
  },
  "cells": [
    {
      "cell_type": "markdown",
      "metadata": {
        "id": "Lb3R6zuC97Cn",
        "colab_type": "text"
      },
      "source": [
        "# Question 3: Hotel La Quinta Motor Inns (LQM)"
      ]
    },
    {
      "cell_type": "markdown",
      "metadata": {
        "id": "jb8PB_3ejHV_",
        "colab_type": "text"
      },
      "source": [
        "La Quinta Motors are planning to purchase some hotels in California. They have a budget of 10 million. They want to purchase hotels that would yield them maximum profit. \n",
        "\n",
        "Hotels have different prices and profitabilities. We need to suggest an optimal solution LQM that suggests which hotels they should buy maximising their profit."
      ]
    },
    {
      "cell_type": "markdown",
      "metadata": {
        "id": "WQUmWxBE9_dk",
        "colab_type": "text"
      },
      "source": [
        "### Import libraries"
      ]
    },
    {
      "cell_type": "code",
      "metadata": {
        "id": "-486C7z_zQWq",
        "colab_type": "code",
        "colab": {}
      },
      "source": [
        "import pandas as pd\n",
        "import numpy as np\n",
        "import math\n",
        "import cvxpy as cvx\n",
        "from numpy import matrix \n",
        "from cvxpy import *\n",
        "from prettytable import PrettyTable"
      ],
      "execution_count": 0,
      "outputs": []
    },
    {
      "cell_type": "markdown",
      "metadata": {
        "id": "c2pimoBszaj3",
        "colab_type": "text"
      },
      "source": [
        "### Reading input from file"
      ]
    },
    {
      "cell_type": "markdown",
      "metadata": {
        "id": "GZ0k_DE9JP3F",
        "colab_type": "text"
      },
      "source": [
        "Using the below formula to calculate profitability.\n",
        "\n",
        "𝑃𝑟𝑜𝑓𝑖𝑡𝑎𝑏𝑖𝑙𝑖𝑡𝑦 = 39.05 − 5.41×𝑆𝑡𝑎𝑡𝑒 𝑃𝑜𝑝𝑢𝑙𝑎𝑡𝑖𝑜𝑛 𝑝𝑒𝑟 𝐼𝑛𝑛 + \n",
        "5.86×𝑃𝑟𝑖𝑐𝑒 𝑜𝑓 𝑡ℎ𝑒 𝐼𝑛𝑛\n",
        "− 3.09×𝑆𝑞𝑢𝑎𝑟𝑒 𝑅𝑜𝑜𝑡 𝑜𝑓 𝑡ℎ𝑒 𝑀𝑒𝑑𝑖𝑎𝑛 𝐼𝑛𝑐𝑜𝑚𝑒 𝑖𝑛 𝑡ℎ𝑒 𝑎𝑟𝑒𝑎 + \n",
        "1.75×𝐶𝑜𝑙𝑙𝑒𝑔𝑒 𝑆𝑡𝑢𝑑𝑒𝑛𝑡𝑠 𝑖𝑛 𝑡ℎ𝑒 𝐴𝑟𝑒𝑎\n",
        "                                    \n",
        "\n",
        "Profitability is calculated in excel sheet that is attached. The rows are sorting with the profitability value in their descending order.\n"
      ]
    },
    {
      "cell_type": "code",
      "metadata": {
        "id": "INmCskwGze87",
        "colab_type": "code",
        "colab": {}
      },
      "source": [
        "url = 'https://raw.github.com/krithikaceg/Optimization/master/SelectingHotels%20%20MSBA.xlsx'\n",
        "input_df = pd.read_excel(url)\n",
        "hotel_list = input_df['Hotel'].tolist()\n",
        "price_list = input_df['Price'].tolist()\n",
        "profitability_list = input_df['Profitability'].tolist()\n",
        "city_list =  input_df['Location'].tolist()\n",
        "\n",
        "# creating cvx variable\n",
        "x = cvx.Variable(16, boolean=True) # define a vector of n Boolean variables, i.e., x_i={0,1}  "
      ],
      "execution_count": 0,
      "outputs": []
    },
    {
      "cell_type": "markdown",
      "metadata": {
        "id": "yiVmMKZ_Oq7q",
        "colab_type": "text"
      },
      "source": [
        "### Data computed from input file"
      ]
    },
    {
      "cell_type": "code",
      "metadata": {
        "id": "E8LzZVnrR4fd",
        "colab_type": "code",
        "outputId": "f48b823e-058e-42b5-e9c3-8bb76aad88b5",
        "colab": {
          "base_uri": "https://localhost:8080/",
          "height": 970
        }
      },
      "source": [
        "input_df"
      ],
      "execution_count": 0,
      "outputs": [
        {
          "output_type": "execute_result",
          "data": {
            "text/html": [
              "<div>\n",
              "<style scoped>\n",
              "    .dataframe tbody tr th:only-of-type {\n",
              "        vertical-align: middle;\n",
              "    }\n",
              "\n",
              "    .dataframe tbody tr th {\n",
              "        vertical-align: top;\n",
              "    }\n",
              "\n",
              "    .dataframe thead th {\n",
              "        text-align: right;\n",
              "    }\n",
              "</style>\n",
              "<table border=\"1\" class=\"dataframe\">\n",
              "  <thead>\n",
              "    <tr style=\"text-align: right;\">\n",
              "      <th></th>\n",
              "      <th>Hotel</th>\n",
              "      <th>Location</th>\n",
              "      <th>Price</th>\n",
              "      <th>Price (normalized)</th>\n",
              "      <th>Square Root of Median Income (normalized)</th>\n",
              "      <th>College Students in Area (normalized)</th>\n",
              "      <th>State Population Per Inn (normalized)</th>\n",
              "      <th>Profitability</th>\n",
              "    </tr>\n",
              "  </thead>\n",
              "  <tbody>\n",
              "    <tr>\n",
              "      <th>0</th>\n",
              "      <td>2</td>\n",
              "      <td>Fresno, California</td>\n",
              "      <td>10000000</td>\n",
              "      <td>1.699076</td>\n",
              "      <td>-0.408199</td>\n",
              "      <td>0.311669</td>\n",
              "      <td>-0.474279</td>\n",
              "      <td>53.38</td>\n",
              "    </tr>\n",
              "    <tr>\n",
              "      <th>1</th>\n",
              "      <td>6</td>\n",
              "      <td>Long Beach, California</td>\n",
              "      <td>8950000</td>\n",
              "      <td>1.402123</td>\n",
              "      <td>0.657845</td>\n",
              "      <td>0.483711</td>\n",
              "      <td>-0.557278</td>\n",
              "      <td>49.10</td>\n",
              "    </tr>\n",
              "    <tr>\n",
              "      <th>2</th>\n",
              "      <td>1</td>\n",
              "      <td>Eureka, California</td>\n",
              "      <td>2925000</td>\n",
              "      <td>-0.301823</td>\n",
              "      <td>-0.812780</td>\n",
              "      <td>-0.536413</td>\n",
              "      <td>-0.995987</td>\n",
              "      <td>44.24</td>\n",
              "    </tr>\n",
              "    <tr>\n",
              "      <th>3</th>\n",
              "      <td>3</td>\n",
              "      <td>Fresno, California</td>\n",
              "      <td>3750000</td>\n",
              "      <td>-0.068503</td>\n",
              "      <td>-0.408199</td>\n",
              "      <td>0.311669</td>\n",
              "      <td>-0.474279</td>\n",
              "      <td>43.02</td>\n",
              "    </tr>\n",
              "    <tr>\n",
              "      <th>4</th>\n",
              "      <td>4</td>\n",
              "      <td>Fresno, California</td>\n",
              "      <td>3500000</td>\n",
              "      <td>-0.139206</td>\n",
              "      <td>-0.408199</td>\n",
              "      <td>0.311669</td>\n",
              "      <td>-0.474279</td>\n",
              "      <td>42.61</td>\n",
              "    </tr>\n",
              "    <tr>\n",
              "      <th>5</th>\n",
              "      <td>14</td>\n",
              "      <td>South Lake Tahoe, California</td>\n",
              "      <td>3750000</td>\n",
              "      <td>-0.068503</td>\n",
              "      <td>-0.791006</td>\n",
              "      <td>-0.594905</td>\n",
              "      <td>-0.426851</td>\n",
              "      <td>42.36</td>\n",
              "    </tr>\n",
              "    <tr>\n",
              "      <th>6</th>\n",
              "      <td>12</td>\n",
              "      <td>South Lake Tahoe, California</td>\n",
              "      <td>2500000</td>\n",
              "      <td>-0.422019</td>\n",
              "      <td>-0.791006</td>\n",
              "      <td>-0.594905</td>\n",
              "      <td>-0.426851</td>\n",
              "      <td>40.29</td>\n",
              "    </tr>\n",
              "    <tr>\n",
              "      <th>7</th>\n",
              "      <td>13</td>\n",
              "      <td>South Lake Tahoe, California</td>\n",
              "      <td>1975000</td>\n",
              "      <td>-0.570495</td>\n",
              "      <td>-0.791006</td>\n",
              "      <td>-0.594905</td>\n",
              "      <td>-0.426851</td>\n",
              "      <td>39.42</td>\n",
              "    </tr>\n",
              "    <tr>\n",
              "      <th>8</th>\n",
              "      <td>10</td>\n",
              "      <td>South Lake Tahoe, California</td>\n",
              "      <td>1650000</td>\n",
              "      <td>-0.662409</td>\n",
              "      <td>-0.791006</td>\n",
              "      <td>-0.594905</td>\n",
              "      <td>-0.426851</td>\n",
              "      <td>38.88</td>\n",
              "    </tr>\n",
              "    <tr>\n",
              "      <th>9</th>\n",
              "      <td>15</td>\n",
              "      <td>South Lake Tahoe, California</td>\n",
              "      <td>1475000</td>\n",
              "      <td>-0.711902</td>\n",
              "      <td>-0.791006</td>\n",
              "      <td>-0.594905</td>\n",
              "      <td>-0.426851</td>\n",
              "      <td>38.59</td>\n",
              "    </tr>\n",
              "    <tr>\n",
              "      <th>10</th>\n",
              "      <td>11</td>\n",
              "      <td>South Lake Tahoe, California</td>\n",
              "      <td>1125000</td>\n",
              "      <td>-0.810886</td>\n",
              "      <td>-0.791006</td>\n",
              "      <td>-0.594905</td>\n",
              "      <td>-0.426851</td>\n",
              "      <td>38.01</td>\n",
              "    </tr>\n",
              "    <tr>\n",
              "      <th>11</th>\n",
              "      <td>16</td>\n",
              "      <td>South Lake Tahoe, California</td>\n",
              "      <td>750000</td>\n",
              "      <td>-0.916941</td>\n",
              "      <td>-0.791006</td>\n",
              "      <td>-0.594905</td>\n",
              "      <td>-0.426851</td>\n",
              "      <td>37.39</td>\n",
              "    </tr>\n",
              "    <tr>\n",
              "      <th>12</th>\n",
              "      <td>5</td>\n",
              "      <td>Fresno, California</td>\n",
              "      <td>325000</td>\n",
              "      <td>-1.037136</td>\n",
              "      <td>-0.408199</td>\n",
              "      <td>0.311669</td>\n",
              "      <td>-0.474279</td>\n",
              "      <td>37.34</td>\n",
              "    </tr>\n",
              "    <tr>\n",
              "      <th>13</th>\n",
              "      <td>9</td>\n",
              "      <td>Los Angeles, California</td>\n",
              "      <td>4900000</td>\n",
              "      <td>0.256732</td>\n",
              "      <td>0.167686</td>\n",
              "      <td>3.106215</td>\n",
              "      <td>3.106530</td>\n",
              "      <td>28.67</td>\n",
              "    </tr>\n",
              "    <tr>\n",
              "      <th>14</th>\n",
              "      <td>7</td>\n",
              "      <td>Los Angeles, California</td>\n",
              "      <td>1950000</td>\n",
              "      <td>-0.577566</td>\n",
              "      <td>0.167686</td>\n",
              "      <td>3.106215</td>\n",
              "      <td>3.106530</td>\n",
              "      <td>23.78</td>\n",
              "    </tr>\n",
              "    <tr>\n",
              "      <th>15</th>\n",
              "      <td>8</td>\n",
              "      <td>Los Angeles, California</td>\n",
              "      <td>1750000</td>\n",
              "      <td>-0.634128</td>\n",
              "      <td>0.167686</td>\n",
              "      <td>3.106215</td>\n",
              "      <td>3.106530</td>\n",
              "      <td>23.45</td>\n",
              "    </tr>\n",
              "  </tbody>\n",
              "</table>\n",
              "</div>"
            ],
            "text/plain": [
              "    Hotel                      Location     Price  Price (normalized)  \\\n",
              "0       2            Fresno, California  10000000            1.699076   \n",
              "1       6        Long Beach, California   8950000            1.402123   \n",
              "2       1            Eureka, California   2925000           -0.301823   \n",
              "3       3            Fresno, California   3750000           -0.068503   \n",
              "4       4            Fresno, California   3500000           -0.139206   \n",
              "5      14  South Lake Tahoe, California   3750000           -0.068503   \n",
              "6      12  South Lake Tahoe, California   2500000           -0.422019   \n",
              "7      13  South Lake Tahoe, California   1975000           -0.570495   \n",
              "8      10  South Lake Tahoe, California   1650000           -0.662409   \n",
              "9      15  South Lake Tahoe, California   1475000           -0.711902   \n",
              "10     11  South Lake Tahoe, California   1125000           -0.810886   \n",
              "11     16  South Lake Tahoe, California    750000           -0.916941   \n",
              "12      5            Fresno, California    325000           -1.037136   \n",
              "13      9       Los Angeles, California   4900000            0.256732   \n",
              "14      7       Los Angeles, California   1950000           -0.577566   \n",
              "15      8       Los Angeles, California   1750000           -0.634128   \n",
              "\n",
              "    Square Root of Median Income (normalized)  \\\n",
              "0                                   -0.408199   \n",
              "1                                    0.657845   \n",
              "2                                   -0.812780   \n",
              "3                                   -0.408199   \n",
              "4                                   -0.408199   \n",
              "5                                   -0.791006   \n",
              "6                                   -0.791006   \n",
              "7                                   -0.791006   \n",
              "8                                   -0.791006   \n",
              "9                                   -0.791006   \n",
              "10                                  -0.791006   \n",
              "11                                  -0.791006   \n",
              "12                                  -0.408199   \n",
              "13                                   0.167686   \n",
              "14                                   0.167686   \n",
              "15                                   0.167686   \n",
              "\n",
              "    College Students in Area (normalized)  \\\n",
              "0                                0.311669   \n",
              "1                                0.483711   \n",
              "2                               -0.536413   \n",
              "3                                0.311669   \n",
              "4                                0.311669   \n",
              "5                               -0.594905   \n",
              "6                               -0.594905   \n",
              "7                               -0.594905   \n",
              "8                               -0.594905   \n",
              "9                               -0.594905   \n",
              "10                              -0.594905   \n",
              "11                              -0.594905   \n",
              "12                               0.311669   \n",
              "13                               3.106215   \n",
              "14                               3.106215   \n",
              "15                               3.106215   \n",
              "\n",
              "    State Population Per Inn (normalized)  Profitability  \n",
              "0                               -0.474279          53.38  \n",
              "1                               -0.557278          49.10  \n",
              "2                               -0.995987          44.24  \n",
              "3                               -0.474279          43.02  \n",
              "4                               -0.474279          42.61  \n",
              "5                               -0.426851          42.36  \n",
              "6                               -0.426851          40.29  \n",
              "7                               -0.426851          39.42  \n",
              "8                               -0.426851          38.88  \n",
              "9                               -0.426851          38.59  \n",
              "10                              -0.426851          38.01  \n",
              "11                              -0.426851          37.39  \n",
              "12                              -0.474279          37.34  \n",
              "13                               3.106530          28.67  \n",
              "14                               3.106530          23.78  \n",
              "15                               3.106530          23.45  "
            ]
          },
          "metadata": {
            "tags": []
          },
          "execution_count": 4
        }
      ]
    },
    {
      "cell_type": "markdown",
      "metadata": {
        "id": "1Qeip6tULE2w",
        "colab_type": "text"
      },
      "source": [
        "### Variables affecting profitability"
      ]
    },
    {
      "cell_type": "markdown",
      "metadata": {
        "id": "-1xtel6XLJk9",
        "colab_type": "text"
      },
      "source": [
        "Part 1.\n",
        "\n",
        "From the above equation, 𝑃𝑟𝑖𝑐𝑒 𝑜𝑓 𝑡ℎ𝑒 𝐼𝑛𝑛 affects profitability positively, whereas 𝑆𝑡𝑎𝑡𝑒 𝑃𝑜𝑝𝑢𝑙𝑎𝑡𝑖𝑜𝑛 𝑝𝑒𝑟 𝐼𝑛𝑛 affect profotability negatively. While they make the biggest impact, other variables such as 𝐶𝑜𝑙𝑙𝑒𝑔𝑒 𝑆𝑡𝑢𝑑𝑒𝑛𝑡𝑠 𝑖𝑛 𝑡ℎ𝑒 𝐴𝑟𝑒𝑎 affects profotability positively, while 𝑆𝑞𝑢𝑎𝑟𝑒 𝑅𝑜𝑜𝑡 𝑜𝑓 𝑡ℎ𝑒 𝑀𝑒𝑑𝑖𝑎𝑛 𝐼𝑛𝑐𝑜𝑚𝑒 𝑖𝑛 𝑡ℎ𝑒 𝑎𝑟𝑒𝑎 affect the profitability negatively.\n",
        "\n",
        "𝑃𝑟𝑖𝑐𝑒 𝑜𝑓 𝑡ℎ𝑒 𝐼𝑛𝑛 can directly contribute to the profit as long it is not over-priced. \n",
        "\n",
        "State population per inn = State population/ number of inns in that place.\n",
        "\n",
        "Since all of these hotels are in California, state population is a constant value across all the hotels in California state. So, it is the number of inns in that place that distinguishes one place from the other. (Hotels belonging to the same place has same State population per inn value.) Hence, if the state population per inn value is more, the number of inns is less in that place.\n",
        "\n",
        "The Number of inns in that place increases with increase in people staying in that place. When the number of inns in the state is less, that implies the number of people staying is less, hence the profitability is less and vice versa.\n",
        "\n"
      ]
    },
    {
      "cell_type": "markdown",
      "metadata": {
        "id": "848y_R35V6f2",
        "colab_type": "text"
      },
      "source": [
        "Part 2.\n",
        "Based on the formula used in the excel, the highest profitability is from Hotel #2, Fresno, California, whereas the lowest profitability is from Hotel #8, Los Angeles, California."
      ]
    },
    {
      "cell_type": "code",
      "metadata": {
        "id": "PVqIAD2SVtWm",
        "colab_type": "code",
        "outputId": "7bf11a88-a3b3-4587-e8f3-22c63d2272b7",
        "colab": {
          "base_uri": "https://localhost:8080/",
          "height": 51
        }
      },
      "source": [
        "print(\"Maximum Profitable hotel: %s\" %hotel_list[np.argmax(profitability_list)])\n",
        "#print(hotel_list[np.argmax(profitability_list)])\n",
        "print(\"Minimum Profitable hotel: %s\" %hotel_list[np.argmin(profitability_list)])"
      ],
      "execution_count": 0,
      "outputs": [
        {
          "output_type": "stream",
          "text": [
            "Maximum Profitable hotel: 2\n",
            "Minimum Profitable hotel: 8\n"
          ],
          "name": "stdout"
        }
      ]
    },
    {
      "cell_type": "markdown",
      "metadata": {
        "id": "_7JEM7mMYM4e",
        "colab_type": "text"
      },
      "source": [
        "Part 3:\n",
        "Using the greedy approach, we choose from the most profitable hotel until we run out of budget. \n",
        "\n",
        "In that case, if we are given 10million, we would choose only one hotel: Hotel #2.\n",
        "\n",
        "Sum of predicted profitability is 53.38\n",
        "\n",
        "If we are trying to maximize our total predicted profitability, is this \"not\" a good approach. If we were trying to maximise the average profitability of the hotels purchsed, we would want to minimise the variance between the profitability of the hotels.\n",
        "\n",
        "If we were given 20 million, the hotels purchased yielding higher total predicted profitability would be, hotels numbers: 0, 1, 11"
      ]
    },
    {
      "cell_type": "code",
      "metadata": {
        "id": "rDeHPJrhZb7e",
        "colab_type": "code",
        "outputId": "de0ff50b-e58c-4ca3-ad82-ed8e37fcec5d",
        "colab": {
          "base_uri": "https://localhost:8080/",
          "height": 34
        }
      },
      "source": [
        "budget = 20000000\n",
        "hotels = []\n",
        "for i in range(len(price_list)):\n",
        "  balance_budget = budget - price_list[i]\n",
        "  if (balance_budget > 0):\n",
        "    hotels.append(i)\n",
        "    budget = balance_budget\n",
        "print(hotels)"
      ],
      "execution_count": 0,
      "outputs": [
        {
          "output_type": "stream",
          "text": [
            "[0, 1, 11]\n"
          ],
          "name": "stdout"
        }
      ]
    },
    {
      "cell_type": "markdown",
      "metadata": {
        "id": "dSk-zrpkzdHY",
        "colab_type": "text"
      },
      "source": [
        "### Constraints"
      ]
    },
    {
      "cell_type": "code",
      "metadata": {
        "id": "iOXuBTuczoUL",
        "colab_type": "code",
        "colab": {}
      },
      "source": [
        "c1 = sum(price_list*x) <= 10000000\n",
        "con = [c1]"
      ],
      "execution_count": 0,
      "outputs": []
    },
    {
      "cell_type": "markdown",
      "metadata": {
        "id": "PD_7Ymrtz9YO",
        "colab_type": "text"
      },
      "source": [
        "### Objective Function"
      ]
    },
    {
      "cell_type": "code",
      "metadata": {
        "id": "ejDE7bA4z_Hu",
        "colab_type": "code",
        "colab": {}
      },
      "source": [
        "obj1 = cvx.Maximize(sum(profitability_list*x))"
      ],
      "execution_count": 0,
      "outputs": []
    },
    {
      "cell_type": "markdown",
      "metadata": {
        "id": "atPLBZu10T__",
        "colab_type": "text"
      },
      "source": [
        "### Maximum Profitability"
      ]
    },
    {
      "cell_type": "code",
      "metadata": {
        "id": "CnSQpLC40XEf",
        "colab_type": "code",
        "outputId": "dbc06240-fa2a-4c1a-b9e8-c5241faf078b",
        "colab": {
          "base_uri": "https://localhost:8080/",
          "height": 51
        }
      },
      "source": [
        "prob = cvx.Problem(obj1, con)\n",
        "result = prob.solve()\n",
        "\n",
        "print('Maximum profitability')\n",
        "print(round(prob.value))"
      ],
      "execution_count": 0,
      "outputs": [
        {
          "output_type": "stream",
          "text": [
            "Maximum profitability\n",
            "270.0\n"
          ],
          "name": "stdout"
        }
      ]
    },
    {
      "cell_type": "markdown",
      "metadata": {
        "id": "d2Da2WUlbFDt",
        "colab_type": "text"
      },
      "source": [
        "### Hotels Chosen"
      ]
    },
    {
      "cell_type": "code",
      "metadata": {
        "id": "GUty7uno1GA_",
        "colab_type": "code",
        "outputId": "1b1e40e8-c737-4996-ebce-062e3a028383",
        "colab": {
          "base_uri": "https://localhost:8080/",
          "height": 51
        }
      },
      "source": [
        "np.around(x.value)"
      ],
      "execution_count": 0,
      "outputs": [
        {
          "output_type": "execute_result",
          "data": {
            "text/plain": [
              "array([-0., -0.,  0.,  0.,  0.,  0.,  1.,  1.,  1.,  1.,  1.,  1.,  1.,\n",
              "        0.,  0.,  0.])"
            ]
          },
          "metadata": {
            "tags": []
          },
          "execution_count": 38
        }
      ]
    },
    {
      "cell_type": "code",
      "metadata": {
        "id": "veAlue6jUYNY",
        "colab_type": "code",
        "outputId": "64d375fc-2b41-4651-c777-5f3f86e174e4",
        "colab": {
          "base_uri": "https://localhost:8080/",
          "height": 221
        }
      },
      "source": [
        "pt = PrettyTable()\n",
        "\n",
        "print('Hotels that are chosen')\n",
        "\n",
        "pt.field_names = [\"Hotel\", \"City\"]\n",
        "for i in range(16):\n",
        "  if (x[i].value > 0.99):\n",
        "    pt.add_row([hotel_list[i], city_list[i]])\n",
        "\n",
        "print(pt)"
      ],
      "execution_count": 0,
      "outputs": [
        {
          "output_type": "stream",
          "text": [
            "Hotels that are chosen\n",
            "+-------+------------------------------+\n",
            "| Hotel |             City             |\n",
            "+-------+------------------------------+\n",
            "|   12  | South Lake Tahoe, California |\n",
            "|   13  | South Lake Tahoe, California |\n",
            "|   10  | South Lake Tahoe, California |\n",
            "|   15  | South Lake Tahoe, California |\n",
            "|   11  | South Lake Tahoe, California |\n",
            "|   16  | South Lake Tahoe, California |\n",
            "|   5   |      Fresno, California      |\n",
            "+-------+------------------------------+\n"
          ],
          "name": "stdout"
        }
      ]
    },
    {
      "cell_type": "markdown",
      "metadata": {
        "id": "0Su_8vE7bLkp",
        "colab_type": "text"
      },
      "source": [
        "Yes, it definitely is better than greedy solution. While we are trying to stick within our budget, we are also trying to find the optimal solution that maximises our profit. \n",
        "With the greedy solution, we achieved a profit of 53.38, whereas with the optimization we could achieve 270 with the same budget.\n",
        "\n",
        "Optimization helps us to invest our money in the best possible way that yields us higher profit."
      ]
    },
    {
      "cell_type": "markdown",
      "metadata": {
        "id": "lK6VjxYib60Q",
        "colab_type": "text"
      },
      "source": [
        "### Restricting the number of hotels in each city"
      ]
    },
    {
      "cell_type": "markdown",
      "metadata": {
        "id": "6kwXUV5Ccfut",
        "colab_type": "text"
      },
      "source": [
        "Since LQM has decided to buy utmost two hotels in any place, we are adding extra constrints to perform that check while arriving at the optimal solution. This extra checks would yield us lesser profit compared to the optimal solution without these constraints and it is totally sensible."
      ]
    },
    {
      "cell_type": "code",
      "metadata": {
        "id": "sVyAGIK3343k",
        "colab_type": "code",
        "colab": {}
      },
      "source": [
        "c2=((city_list[5]==\"South Lake Tahoe, California\")*x[5] + \n",
        "    (city_list[6]==\"South Lake Tahoe, California\")*x[6] + \n",
        "    (city_list[7]==\"South Lake Tahoe, California\")*x[7] + \n",
        "    (city_list[8]==\"South Lake Tahoe, California\")*x[8] + \n",
        "    (city_list[9]==\"South Lake Tahoe, California\")*x[9] + \n",
        "    (city_list[10]==\"South Lake Tahoe, California\")*x[10] + \n",
        "    (city_list[11]==\"South Lake Tahoe, California\")*x[11] \n",
        "   )<=2\n",
        "c3=((city_list[0]=='Fresno, California')*x[0] + \n",
        "    (city_list[3]=='Fresno, California')*x[3] + \n",
        "    (city_list[4]=='Fresno, California')*x[4] + \n",
        "    (city_list[12]=='Fresno, California')*x[12] \n",
        "   )<=2\n",
        "c4=((city_list[13]=='Los Angeles, California')*x[13] + \n",
        "    (city_list[14]=='Los Angeles, California')*x[14] + \n",
        "    (city_list[15]=='Los Angeles, California')*x[15] \n",
        "   )<=2\n",
        "con = [c1, c2, c3, c4]"
      ],
      "execution_count": 0,
      "outputs": []
    },
    {
      "cell_type": "code",
      "metadata": {
        "id": "qSNHdeaT3_wU",
        "colab_type": "code",
        "outputId": "279244a9-77ea-486c-8ff5-02ec3d3e3fef",
        "colab": {
          "base_uri": "https://localhost:8080/",
          "height": 238
        }
      },
      "source": [
        "prob = cvx.Problem(obj1, con)\n",
        "result = prob.solve()\n",
        "\n",
        "pt = PrettyTable()\n",
        "\n",
        "print('Hotels that are chosen')\n",
        "\n",
        "pt.field_names = [\"Hotel\", \"City\"]\n",
        "for i in range(16):\n",
        "  if (x[i].value > 0.99):\n",
        "    pt.add_row([hotel_list[i], city_list[i]])\n",
        "\n",
        "print(pt)\n",
        "\n",
        "print('Maximum profitability')\n",
        "print(round(prob.value))"
      ],
      "execution_count": 0,
      "outputs": [
        {
          "output_type": "stream",
          "text": [
            "Hotels that are chosen\n",
            "+-------+------------------------------+\n",
            "| Hotel |             City             |\n",
            "+-------+------------------------------+\n",
            "|   1   |      Eureka, California      |\n",
            "|   10  | South Lake Tahoe, California |\n",
            "|   11  | South Lake Tahoe, California |\n",
            "|   5   |      Fresno, California      |\n",
            "|   7   |   Los Angeles, California    |\n",
            "|   8   |   Los Angeles, California    |\n",
            "+-------+------------------------------+\n",
            "Maximum profitability\n",
            "206.0\n"
          ],
          "name": "stdout"
        }
      ]
    },
    {
      "cell_type": "markdown",
      "metadata": {
        "id": "elu1Zt1kc6yE",
        "colab_type": "text"
      },
      "source": [
        "As expected, the profit from optimal solution with constraints is lesser than the one from optimal solution without constraints. Since it is a business decision that LQM has decided not to buy more that two hotels in a place, we suggest what those hotels should be."
      ]
    },
    {
      "cell_type": "markdown",
      "metadata": {
        "id": "tVuSD2H3ONRB",
        "colab_type": "text"
      },
      "source": [
        "To La Quinta Motors,\n",
        "\n",
        "Greetings! Congratulations on your recent budget allocation to purchase new hotels.\n",
        "\n",
        "Please find the data computed from the excel sheet in the above section 'Data computed from input file' which is sorted based on the profitability of the hotels.\n",
        "\n",
        "As you can see, Hotel #2 is the most profitable one, but also the most expensive one. Since LQM can end up only with $53.38 profit by investing all $10 million, we have built our optimization model catering to your various constraints.\n",
        "\n",
        "First, this model returned us the following hotels: 5, 10, 11, 12, 13, 15, 16. This combination give the maximum expected total profit within budget. Even though this is a good combination, we found that majority of the hotels are being purchased in South Lake Tahoe, California.\n",
        "\n",
        "After considering your suggestion to restrict the number of hotels in any place to two, we have arrived at the following hotels: 1, 5, 7, 8, 10, 11. These hotels are present totally in four areas and we strongly believe that this will help LQM expand business in different places.\n",
        "\n",
        "In addition to our above recommendation, we have a suggestion on your regression model. When investing in hotels, we need more information about the tourists or business meeting happening in that area. This will tell us whether investing in that place would be profitable. \n",
        "\n",
        "Additionally, we recommend LQM to first consider buying in a greater number of places to expand the business. If any budget is left over, we can see which place would be better to invest that budget for a second hotel.\n",
        "\n",
        "This is the best possible suggestion we have arrived using the constraints you have given and your budget. However, if your constraints or budget change, please keep us informed. We can help you anytime!\n"
      ]
    }
  ]
}