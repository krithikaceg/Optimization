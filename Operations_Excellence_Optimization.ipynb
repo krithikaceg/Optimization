{
  "nbformat": 4,
  "nbformat_minor": 0,
  "metadata": {
    "colab": {
      "name": "Operations Excellence Optimization.ipynb",
      "version": "0.3.2",
      "provenance": []
    },
    "kernelspec": {
      "name": "python3",
      "display_name": "Python 3"
    }
  },
  "cells": [
    {
      "cell_type": "markdown",
      "metadata": {
        "id": "HL4PxLYz16vQ",
        "colab_type": "text"
      },
      "source": [
        "# Question 2: Operations Excellence of plants"
      ]
    },
    {
      "cell_type": "markdown",
      "metadata": {
        "id": "CPoV7XW-d3u_",
        "colab_type": "text"
      },
      "source": [
        "You operate two plants, i.e., A and B. Each plant makes two products, “standard” and “deluxe”. A unit of\n",
        "standard gives a profit contribution of \\\\$10, while a unit of deluxe gives a profit contribution of $15.\n",
        "\n",
        "Each plant uses two processes, grinding and polishing, for producing its products. Plant A has a grinding capacity of 80 hours per week and polishing capacity of 60 hours per week. For plant B, these capacities are 60 and 75 hours per week, respectively.\n",
        "The grinding and polishing times in hours for a unit of each type of product in each factory are as given below.\n",
        "\n",
        "For Plant A\n",
        "Standard Deluxe\n",
        "Grinding 4 2\n",
        "Polishing 2 5\n",
        "For Plant B\n",
        "Standard Deluxe\n",
        "Grinding 5 3\n",
        "Polishing 5 6\n",
        "\n",
        "It is possible, for example, that plant B has older machines than plant A, resulting in higher unit processing times. In addition, each unit of each product uses 4 kg of a raw material, which we refer to as raw. The company has 120 kg of raw available per week. To start with, we will assume that plant A is allocated 75 kg of raw per week and plant B the remaining 45 kg per week. Each plant can build a very simple linear programming model to maximize its profit contribution."
      ]
    },
    {
      "cell_type": "markdown",
      "metadata": {
        "id": "WmESqL1QwlIC",
        "colab_type": "text"
      },
      "source": [
        "### Import Libraries"
      ]
    },
    {
      "cell_type": "code",
      "metadata": {
        "id": "p_r6qd00wovt",
        "colab_type": "code",
        "colab": {}
      },
      "source": [
        "import math\n",
        "import numpy\n",
        "import cvxpy as cvx\n",
        "import numpy\n",
        "from prettytable import PrettyTable"
      ],
      "execution_count": 0,
      "outputs": []
    },
    {
      "cell_type": "markdown",
      "metadata": {
        "id": "wrO8wJASwtVy",
        "colab_type": "text"
      },
      "source": [
        "### Variable declaration"
      ]
    },
    {
      "cell_type": "code",
      "metadata": {
        "id": "XxC5upI4wx0E",
        "colab_type": "code",
        "colab": {}
      },
      "source": [
        "# number of products produced by each plant\n",
        "a1 = cvx.Variable(1, integer=True)# Standard from Plant A\n",
        "a2 = cvx.Variable(1, integer=True)# Deluxe from Plant A\n",
        "b1 = cvx.Variable(1, integer=True)# Standard from Plant B\n",
        "b2 = cvx.Variable(1, integer=True)# Deluxe from Plant B"
      ],
      "execution_count": 0,
      "outputs": []
    },
    {
      "cell_type": "markdown",
      "metadata": {
        "id": "UPm1g4F7w02J",
        "colab_type": "text"
      },
      "source": [
        "### Constraints"
      ]
    },
    {
      "cell_type": "code",
      "metadata": {
        "id": "QVLO02f3w3IU",
        "colab_type": "code",
        "colab": {}
      },
      "source": [
        "c1= a1 >= 0\n",
        "c2= a2 >= 0 \n",
        "c3= b1 >= 0 \n",
        "c4= b2 >= 0 \n",
        "c5= a1*4 + a2*2 <= 80\n",
        "c6= a1*2 + a2*5 <= 60\n",
        "c7= b1*5 + b2*3 <= 60\n",
        "c8= b1*5 + b2*6 <= 75\n",
        "c9= a1*4 + a2*4 <= 75\n",
        "c10= b1*4 + b2*4 <= 45\n",
        "\n",
        "con_A = [c1,c2,c5,c6,c9]\n",
        "con_B = [c3,c4,c7,c8,c10]\n",
        "con = [c1,c2,c3,c4,c5,c6,c7,c8,c9,c10]"
      ],
      "execution_count": 0,
      "outputs": []
    },
    {
      "cell_type": "markdown",
      "metadata": {
        "id": "rXj1u6p0w8nx",
        "colab_type": "text"
      },
      "source": [
        "### Objective"
      ]
    },
    {
      "cell_type": "code",
      "metadata": {
        "id": "tQ7cfQvhw-TI",
        "colab_type": "code",
        "colab": {}
      },
      "source": [
        "#objective\n",
        "\n",
        "std_price = 10 # price of standard product\n",
        "dlx_price = 15 # price of deluxe product\n",
        "\n",
        "OF_A = a1*std_price + a2*dlx_price\n",
        "OF_B = b1*std_price + b2*dlx_price\n",
        "OF = a1*std_price + a2*dlx_price + b1*std_price + b2*dlx_price\n",
        "\n",
        "objective_A = cvx.Maximize(OF_A)\n",
        "objective_B = cvx.Maximize(OF_B)\n",
        "objective = cvx.Maximize(OF)\n",
        "\n"
      ],
      "execution_count": 0,
      "outputs": []
    },
    {
      "cell_type": "markdown",
      "metadata": {
        "id": "53rHK84LxC_Y",
        "colab_type": "text"
      },
      "source": [
        "### Plant A: Maximum Revenue & Allocation"
      ]
    },
    {
      "cell_type": "code",
      "metadata": {
        "id": "ElNZSlis2bq5",
        "colab_type": "code",
        "outputId": "873d3b2b-b4c5-4368-da06-c5e452c2b7c4",
        "colab": {
          "base_uri": "https://localhost:8080/",
          "height": 187
        }
      },
      "source": [
        "#solving - Plant A\n",
        "prob_A = cvx.Problem(objective_A, con_A)\n",
        "result_A = prob_A.solve()\n",
        "print('\\nPLANT A')\n",
        "\n",
        "print('optimal revenue')\n",
        "print (int(np.round(prob_A.value)))\n",
        "    \n",
        "xa = PrettyTable()\n",
        "\n",
        "xa.field_names = [\"Product\", \"Plant A\"]\n",
        "\n",
        "xa.add_row([\"Standard\", int(np.round(a1.value))])\n",
        "xa.add_row([\"Deluxe\", int(np.round(a2.value))])\n",
        "\n",
        "print(xa)\n",
        "\n"
      ],
      "execution_count": 0,
      "outputs": [
        {
          "output_type": "stream",
          "text": [
            "\n",
            "PLANT A\n",
            "optimal revenue\n",
            "220\n",
            "+----------+---------+\n",
            "| Product  | Plant A |\n",
            "+----------+---------+\n",
            "| Standard |    10   |\n",
            "|  Deluxe  |    8    |\n",
            "+----------+---------+\n"
          ],
          "name": "stdout"
        }
      ]
    },
    {
      "cell_type": "markdown",
      "metadata": {
        "id": "kyNZr6Lreb7_",
        "colab_type": "text"
      },
      "source": [
        "To attain a maximum profit in Plant A, it should produce ten Standard products and eight Deluxe products. This would yield in a revenue of $220."
      ]
    },
    {
      "cell_type": "markdown",
      "metadata": {
        "id": "fVSuqocXxNup",
        "colab_type": "text"
      },
      "source": [
        "### Plant B: Maximum Revenue & Allocation"
      ]
    },
    {
      "cell_type": "code",
      "metadata": {
        "id": "ghw97Il6xTe0",
        "colab_type": "code",
        "outputId": "9c9801f2-7f44-43a2-b69c-472f63748ca1",
        "colab": {
          "base_uri": "https://localhost:8080/",
          "height": 187
        }
      },
      "source": [
        "#solving - Plant B\n",
        "prob_B = cvx.Problem(objective_B, con_B)\n",
        "result_B = prob_B.solve()\n",
        "\n",
        "print('\\nPLANT B')\n",
        "print('optimal revenue')\n",
        "print (int(np.round(prob_B.value)))\n",
        "\n",
        "xb = PrettyTable()\n",
        "\n",
        "xb.field_names = [\"Product\", \"Plant B\"]\n",
        "\n",
        "xb.add_row([\"Standard\", int(np.round(b1.value))])\n",
        "xb.add_row([\"Deluxe\", int(np.round(b2.value))])\n",
        "print(xb)"
      ],
      "execution_count": 0,
      "outputs": [
        {
          "output_type": "stream",
          "text": [
            "\n",
            "PLANT B\n",
            "optimal revenue\n",
            "165\n",
            "+----------+---------+\n",
            "| Product  | Plant B |\n",
            "+----------+---------+\n",
            "| Standard |    0    |\n",
            "|  Deluxe  |    11   |\n",
            "+----------+---------+\n"
          ],
          "name": "stdout"
        }
      ]
    },
    {
      "cell_type": "markdown",
      "metadata": {
        "id": "09pPR_otepEb",
        "colab_type": "text"
      },
      "source": [
        "To attain a maximum profit in Plant B, it should produce eleven Deluxe products. This would yield in a revenue of $165."
      ]
    },
    {
      "cell_type": "markdown",
      "metadata": {
        "id": "01Adj7IvxUPj",
        "colab_type": "text"
      },
      "source": [
        "### Analysis I: Plant A and Plant B: Maximum Revenue & Allocation"
      ]
    },
    {
      "cell_type": "code",
      "metadata": {
        "id": "-V2p8fLRxd4y",
        "colab_type": "code",
        "outputId": "174c1ece-40df-46f3-8dd6-9544bdf891fb",
        "colab": {
          "base_uri": "https://localhost:8080/",
          "height": 187
        }
      },
      "source": [
        "#solving - Plant A and B\n",
        "prob = cvx.Problem(objective, con)\n",
        "result = prob.solve()\n",
        "print('\\nPLANT A & B')\n",
        "print('optimal revenue')\n",
        "print (int(np.round(prob.value)))\n",
        "\n",
        "x = PrettyTable()\n",
        "\n",
        "x.field_names = [\"Product\", \"Plant A\", \"Plant B\"]\n",
        "\n",
        "x.add_row([\"Standard\", int(np.round(a1.value)), int(np.round(b1.value))])\n",
        "x.add_row([\"Deluxe\", int(np.round(a2.value)), int(np.round(b2.value))])\n",
        "print(x)"
      ],
      "execution_count": 0,
      "outputs": [
        {
          "output_type": "stream",
          "text": [
            "\n",
            "PLANT A & B\n",
            "optimal revenue\n",
            "385\n",
            "+----------+---------+---------+\n",
            "| Product  | Plant A | Plant B |\n",
            "+----------+---------+---------+\n",
            "| Standard |    10   |    0    |\n",
            "|  Deluxe  |    8    |    11   |\n",
            "+----------+---------+---------+\n"
          ],
          "name": "stdout"
        }
      ]
    },
    {
      "cell_type": "markdown",
      "metadata": {
        "id": "ygVQEra5fiP7",
        "colab_type": "text"
      },
      "source": [
        "Compared to the solution from individual plant profit contribution, the allocation are more or less same if they do not share raw material between them.\n"
      ]
    },
    {
      "cell_type": "markdown",
      "metadata": {
        "id": "u-h-XXRexzh4",
        "colab_type": "text"
      },
      "source": [
        "### Analysis II: Alternative Solution - sharing raw material"
      ]
    },
    {
      "cell_type": "code",
      "metadata": {
        "id": "yXarfjA12fBv",
        "colab_type": "code",
        "outputId": "2f432653-edad-40b3-a23d-346a34a7507e",
        "colab": {
          "base_uri": "https://localhost:8080/",
          "height": 187
        }
      },
      "source": [
        "#solving - Plant A and B\n",
        "\n",
        "# new constraint - sharing the raw material between A and B instead of allocating fixed amount to each plant\n",
        "c11 = 4*(a1+a2+b1+b2) <= 120\n",
        "con = [c1,c2,c3,c4,c5,c6,c7,c8,c11]\n",
        "prob = cvx.Problem(objective, con)\n",
        "result = prob.solve()\n",
        "print('\\nPLANT A & B')\n",
        "print('optimal revenue')\n",
        "print (int(np.round(prob.value)))\n",
        "\n",
        "x = PrettyTable()\n",
        "\n",
        "x.field_names = [\"Product\", \"Plant A\", \"Plant B\"]\n",
        "\n",
        "x.add_row([\"Standard\", int(np.round(a1.value)), int(np.round(b1.value))])\n",
        "x.add_row([\"Deluxe\", int(np.round(a2.value)), int(np.round(b2.value))])\n",
        "print(x)\n"
      ],
      "execution_count": 0,
      "outputs": [
        {
          "output_type": "stream",
          "text": [
            "\n",
            "PLANT A & B\n",
            "optimal revenue\n",
            "400\n",
            "+----------+---------+---------+\n",
            "| Product  | Plant A | Plant B |\n",
            "+----------+---------+---------+\n",
            "| Standard |    10   |    0    |\n",
            "|  Deluxe  |    8    |    12   |\n",
            "+----------+---------+---------+\n"
          ],
          "name": "stdout"
        }
      ]
    },
    {
      "cell_type": "markdown",
      "metadata": {
        "id": "8oEOT23WgO9g",
        "colab_type": "text"
      },
      "source": [
        "If they share raw material, their revenue increases from \\\\$385 to $400.\n",
        "\n"
      ]
    },
    {
      "cell_type": "markdown",
      "metadata": {
        "id": "KKsQd6jwyWhA",
        "colab_type": "text"
      },
      "source": [
        "### Analysis III: Better Solution - Unlimited supply of raw material"
      ]
    },
    {
      "cell_type": "code",
      "metadata": {
        "id": "qPKVobjIyZ_T",
        "colab_type": "code",
        "outputId": "5161a286-5108-4e16-c873-0e7d9f27142e",
        "colab": {
          "base_uri": "https://localhost:8080/",
          "height": 187
        }
      },
      "source": [
        "\n",
        "#solving - Plant A and B\n",
        "# removing the constraint on raw material\n",
        "# if company is able to provide infinite amount of raw material to both plants\n",
        "con = [c1,c2,c3,c4,c5,c6,c7,c8]\n",
        "prob = cvx.Problem(objective, con)\n",
        "result = prob.solve()\n",
        "print('\\nPLANT A & B')\n",
        "print('optimal revenue')\n",
        "print (int(np.round(prob.value)))\n",
        "\n",
        "x = PrettyTable()\n",
        "\n",
        "x.field_names = [\"Product\", \"Plant A\", \"Plant B\"]\n",
        "\n",
        "x.add_row([\"Standard\", int(np.round(a1.value)), int(np.round(b1.value))])\n",
        "x.add_row([\"Deluxe\", int(np.round(a2.value)), int(np.round(b2.value))])\n",
        "print(x)"
      ],
      "execution_count": 0,
      "outputs": [
        {
          "output_type": "stream",
          "text": [
            "\n",
            "PLANT A & B\n",
            "optimal revenue\n",
            "425\n",
            "+----------+---------+---------+\n",
            "| Product  | Plant A | Plant B |\n",
            "+----------+---------+---------+\n",
            "| Standard |    17   |    0    |\n",
            "|  Deluxe  |    5    |    12   |\n",
            "+----------+---------+---------+\n"
          ],
          "name": "stdout"
        }
      ]
    },
    {
      "cell_type": "markdown",
      "metadata": {
        "id": "_8Ub58G3K2Qg",
        "colab_type": "text"
      },
      "source": [
        "Based on the constraints we have received, we have created our optimization model and perofrmed optimization. We have done three types of analysis pertaining to different conditions and I would love to go over them one by one. Each of the analysis differes the way raw material is distributed among the two plants A and B.\n",
        "\n",
        "In our first analysis, we have created our constraints based on \"strict allocation.\" When Plant A and B are given 75 and 45 raw material each, we are able to see a profit of $385. Please refer to Analysis I for the allocation details.\n",
        "\n",
        "In our second analysis, we have created our constraints based on \"sharing resources.\" When Plant A and B are together given 120 amount of raw material we are able to see a profit of $400. Please refer to Analysis II for the allocation details. \n",
        "\n",
        "In our final analysis, we have created our constraints based on \"unlimited supply.\" When Plant A and B are given unlimited supply of raw materials, we are able to see a profit of $425. Please refer to Analysis III for the allocation details.\n",
        "\n",
        "We ran the above three analysis to find the optimal solution using our optimization model by changing our constraints. If you can purchase 136 quantities of raw materials and give 68 to each plant A and Plant B, they can make complete use of the resources allocated to them and be return maximum profit. \n",
        "\n",
        "Let us know how much more raw materials you could purchase, so that we can run our model with the new constraints and provide better results."
      ]
    }
  ]
}