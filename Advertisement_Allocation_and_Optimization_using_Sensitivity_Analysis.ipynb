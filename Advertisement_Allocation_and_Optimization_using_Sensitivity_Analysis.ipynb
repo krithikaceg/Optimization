{
  "nbformat": 4,
  "nbformat_minor": 0,
  "metadata": {
    "colab": {
      "name": "Advertisement Allocation and Optimization using Sensitivity Analysis.ipynb",
      "version": "0.3.2",
      "provenance": []
    },
    "kernelspec": {
      "name": "python3",
      "display_name": "Python 3"
    }
  },
  "cells": [
    {
      "cell_type": "markdown",
      "metadata": {
        "id": "NDxBc9bL1dun",
        "colab_type": "text"
      },
      "source": [
        "# Advertisement agency sensitivity analysis"
      ]
    },
    {
      "cell_type": "markdown",
      "metadata": {
        "id": "UZfmvhiOo1eE",
        "colab_type": "text"
      },
      "source": [
        "## Modeling"
      ]
    },
    {
      "cell_type": "markdown",
      "metadata": {
        "id": "vXPa7-LXhAix",
        "colab_type": "text"
      },
      "source": [
        "\n",
        "**Decision variables **\n",
        "Let $i=\\{1,2,3,4\\}$ be in the index for the advertisers such that\n",
        "* $i=1$ is GEICO\n",
        "* $i=2$ is Delta\n",
        "* $i=3$ is T-Mobile\n",
        "* $i=4$ is Capital One\n",
        "\n",
        "Let $j=\\{1,2\\}$ be the index for the category, such as $j=1$ is the Sports categorty and $j=2$ is the National category.\n",
        "\n",
        "So $x_{11}$ is the number of impressions for Geico in Sports and $x_{12}$ is the number of impressions for GEICO int he National category\n",
        "\n",
        "\n",
        "**Objective**\n",
        "\n",
        "The objective of the platform, i.e., Washington Post, is to maximize advertising revenues. These revenues are driven by the cost per click charged to the advertisers, i.e., $\\pi=\\$2.5$ and the click-through rates (CTR).\n",
        "\n",
        "Let $\\kappa_{ij}$ be the CTR of advertiser $i$ in category $j$. For instance, the CTR of T-Mobile in the sports category is $\\kappa_{31}=1.0\\%$, whereas its CTR in the National category is $\\kappa_{32}=3.0\\%$.\n",
        "\n",
        "The objective function is thus:\n",
        "\\begin{equation}\n",
        "Maximize \\quad 2.3\\times \\sum_{i=1}^4\\sum_{j=1}^{2}  \\kappa_{ij}\\times x_{ij}\n",
        "\\end{equation}\n",
        "\n",
        "\n",
        "\n",
        "\n",
        "\n",
        "**Constraints**\n",
        "The first table provides the following constraints\n",
        "\n",
        "\\begin{align}\n",
        "x_{11}&\\geq 2,000,000\\\\\n",
        "x_{12}&\\geq 1,000,000\\\\\n",
        "x_{22}&\\geq 1,000,000\\\\\n",
        "x_{21}+x_{22}&\\geq 2,000,000\\\\\n",
        "x_{31}&\\geq 1,000,000\\\\\n",
        "x_{32}&\\geq 1,000,000\\\\\n",
        "x_{31}+x_{32}&\\geq 3,000,000\\\\\n",
        "x_{41}+x_{42}&\\geq 2,000,000\\\\\n",
        "\\end{align}\n",
        "\n",
        "\"Assume that the Sports section gets six million views per day and the National section\n",
        "get five million views per day\"\n",
        "This statement gives two constraints:\n",
        "\\begin{align}\n",
        "\\sum_{i=1}^{4}x_{i1}&\\leq 6,000,000\\\\\n",
        "\\sum_{i=1}^{4}x_{i2}&\\leq 5,000,000\\\\\n",
        "\\end{align}\n",
        "\n",
        "Non-negativity constraints are\n",
        "\\begin{equation}\n",
        "x_{ij}\\geq 0\n",
        "\\end{equation}"
      ]
    },
    {
      "cell_type": "markdown",
      "metadata": {
        "id": "U5zCh3QZtCzW",
        "colab_type": "text"
      },
      "source": [
        "### Import Libraries"
      ]
    },
    {
      "cell_type": "code",
      "metadata": {
        "id": "kOxP5vR0tBXa",
        "colab_type": "code",
        "colab": {}
      },
      "source": [
        "import math\n",
        "import numpy\n",
        "import cvxpy as cvx\n",
        "import numpy as np"
      ],
      "execution_count": 0,
      "outputs": []
    },
    {
      "cell_type": "markdown",
      "metadata": {
        "id": "BnyBKjuktHS2",
        "colab_type": "text"
      },
      "source": [
        "### Variable declaration"
      ]
    },
    {
      "cell_type": "code",
      "metadata": {
        "id": "FImjqGdgtL0D",
        "colab_type": "code",
        "colab": {}
      },
      "source": [
        "# number of impressions required in each section by each company\n",
        "x11 = cvx.Variable(1, integer=True)# Geico Sports\n",
        "x12 = cvx.Variable(1, integer=True)# Geico National\n",
        "x21 = cvx.Variable(1, integer=True)# Delta Sports\n",
        "x22 = cvx.Variable(1, integer=True)# Delta National\n",
        "x31 = cvx.Variable(1, integer=True)# T-Mobile Sports\n",
        "x32 = cvx.Variable(1, integer=True)# T-Mobile National\n",
        "x41 = cvx.Variable(1, integer=True)# Capital One Sports\n",
        "x42 = cvx.Variable(1, integer=True)# Capital One National"
      ],
      "execution_count": 0,
      "outputs": []
    },
    {
      "cell_type": "markdown",
      "metadata": {
        "id": "8aQ46aTItO_5",
        "colab_type": "text"
      },
      "source": [
        "### Constraints"
      ]
    },
    {
      "cell_type": "code",
      "metadata": {
        "id": "KjgQWIbvtR-G",
        "colab_type": "code",
        "colab": {}
      },
      "source": [
        "c1= x11>= 2000000 \n",
        "c2= x12>= 1000000 \n",
        "c3=x22>= 1000000 \n",
        "c4= x21+x22== 2000000 \n",
        "c5=x31>=1000000\n",
        "c6=x32>=1000000\n",
        "c7=x31+x32==3000000\n",
        "c8=x41+x42==2000000\n",
        "c9=x11+x21+x31+x41<=6000000\n",
        "c10=x12+x22+x32+x42<=5000000\n",
        "c11=x21>=0\n",
        "c12=x41>=0\n",
        "c13=x42>=0\n",
        "con=[c1,c2,c3,c4,c5,c6,c7,c8,c9,c10,c11,c12,c13]"
      ],
      "execution_count": 0,
      "outputs": []
    },
    {
      "cell_type": "markdown",
      "metadata": {
        "id": "FmbCaGjKtYPn",
        "colab_type": "text"
      },
      "source": [
        "### Objective function"
      ]
    },
    {
      "cell_type": "code",
      "metadata": {
        "id": "FsB4B3O_tb8O",
        "colab_type": "code",
        "colab": {}
      },
      "source": [
        "#objective\n",
        "k11=2.5/100\n",
        "k12=0.8/100\n",
        "k21=2.0/100\n",
        "k22=1.0/100\n",
        "k31=1.0/100\n",
        "k32=3.0/100\n",
        "k41=1.5/100\n",
        "k42=2.0/100\n",
        "OF=(k11*x11 + k12*x12 + k21*x21 + k22*x22 + k31*x31 + k32*x32 + k41*x41 + k42*x42) * 2.3\n",
        "objective = cvx.Maximize(OF)"
      ],
      "execution_count": 0,
      "outputs": []
    },
    {
      "cell_type": "markdown",
      "metadata": {
        "id": "tiyoctz7tgFV",
        "colab_type": "text"
      },
      "source": [
        "### Maximum Revenue"
      ]
    },
    {
      "cell_type": "code",
      "metadata": {
        "id": "EtK4GXUSf5ma",
        "colab_type": "code",
        "outputId": "008ce5e0-5c2f-42f0-d467-08dffcefb5c5",
        "colab": {
          "base_uri": "https://localhost:8080/",
          "height": 51
        }
      },
      "source": [
        "\n",
        "prob = cvx.Problem(objective, con)\n",
        "result = prob.solve()\n",
        "\n",
        "print('optimal revenue')\n",
        "print (int(np.round(prob.value)))"
      ],
      "execution_count": 0,
      "outputs": [
        {
          "output_type": "stream",
          "text": [
            "optimal revenue\n",
            "501400\n"
          ],
          "name": "stdout"
        }
      ]
    },
    {
      "cell_type": "markdown",
      "metadata": {
        "id": "GCGJqoDNtl5O",
        "colab_type": "text"
      },
      "source": [
        "### Impressions allocation"
      ]
    },
    {
      "cell_type": "code",
      "metadata": {
        "id": "0ZmUGgyfhcAJ",
        "colab_type": "code",
        "outputId": "fbad9016-de72-4b4b-bede-af153cd2be63",
        "colab": {
          "base_uri": "https://localhost:8080/",
          "height": 153
        }
      },
      "source": [
        "from prettytable import PrettyTable\n",
        "    \n",
        "x = PrettyTable()\n",
        "\n",
        "x.field_names = [\"Advertisers\", \"Sports\", \"National\"]\n",
        "\n",
        "x.add_row([\"Geico\", int(np.round(x11.value)), int(np.round(x12.value))])\n",
        "x.add_row([\"Delta\", int(np.round(x21.value)), int(np.round(x22.value))])\n",
        "x.add_row([\"T-Mobile\", int(np.round(x31.value)), int(np.round(x32.value))])\n",
        "x.add_row([\"Capital One\", int(np.round(x41.value)), int(np.round(x42.value))])\n",
        "\n",
        "print(x)"
      ],
      "execution_count": 0,
      "outputs": [
        {
          "output_type": "stream",
          "text": [
            "+-------------+---------+----------+\n",
            "| Advertisers |  Sports | National |\n",
            "+-------------+---------+----------+\n",
            "|    Geico    | 3000000 | 1000000  |\n",
            "|    Delta    | 1000000 | 1000000  |\n",
            "|   T-Mobile  | 1000000 | 2000000  |\n",
            "| Capital One | 1000000 | 1000000  |\n",
            "+-------------+---------+----------+\n"
          ],
          "name": "stdout"
        }
      ]
    },
    {
      "cell_type": "markdown",
      "metadata": {
        "id": "ubrDrvvNooqJ",
        "colab_type": "text"
      },
      "source": [
        "## Sensitivity Analysis"
      ]
    },
    {
      "cell_type": "markdown",
      "metadata": {
        "id": "h9wX0uhipSI-",
        "colab_type": "text"
      },
      "source": [
        "We are going to perform sensitivity analysis based on changing the Click Through Rate (CTR). "
      ]
    },
    {
      "cell_type": "markdown",
      "metadata": {
        "id": "Knb2y7dPpl7v",
        "colab_type": "text"
      },
      "source": [
        "**Changing one advetiser's Click Through Rate for both sections**"
      ]
    },
    {
      "cell_type": "code",
      "metadata": {
        "id": "-ua8NBuwHbWs",
        "colab_type": "code",
        "colab": {}
      },
      "source": [
        "# We take the midpoint of the range of values for each advertiser's each section\n",
        "k11=2.5/100\n",
        "k12=0.6/100\n",
        "k21=2.0/100\n",
        "k22=1.0/100\n",
        "k31=1.0/100\n",
        "k32=3.0/100\n",
        "k41=1.75/100\n",
        "k42=2.0/100\n",
        "\n",
        "# Before running sensitivity analysis, we are saving the original allocation results\n",
        "# this allocation will be used to compare how sensitive the allocation is with respect to different CTR\n",
        "opt_x11 = int(np.round(x11.value))\n",
        "opt_x12 = int(np.round(x12.value))\n",
        "opt_x21 = int(np.round(x21.value))\n",
        "opt_x22 = int(np.round(x22.value))\n",
        "opt_x31 = int(np.round(x31.value))\n",
        "opt_x32 = int(np.round(x32.value))\n",
        "opt_x41 = int(np.round(x41.value))\n",
        "opt_x42 = int(np.round(x42.value))\n",
        "\n",
        "# compares the allocation with the optimal allocation (as a benchmark) arrived in the above section.\n",
        "# if each advertiser's each section matches our benchmark value, we return True else False\n",
        "# returns True/False\n",
        "def compare_difference(x11, x12, x21, x22, x31, x32, x41, x42):\n",
        "  compare_result =  (int(np.round(x11.value)) != opt_x11) or (int(np.round(x12.value)) != opt_x12) or (int(np.round(x21.value)) != opt_x21) or (int(np.round(x22.value)) != opt_x22) or (int(np.round(x31.value)) != opt_x31) or (int(np.round(x32.value)) != opt_x32) and (int(np.round(x41.value)) != opt_x41) and (int(np.round(x42.value)) != opt_x42)  \n",
        "  return compare_result"
      ],
      "execution_count": 0,
      "outputs": []
    },
    {
      "cell_type": "code",
      "metadata": {
        "id": "R7rXDtA9omMf",
        "colab_type": "code",
        "outputId": "6ae698c1-225c-4bb9-eced-321491be21aa",
        "colab": {
          "base_uri": "https://localhost:8080/",
          "height": 2278
        }
      },
      "source": [
        "print(\"Sensitivity analysis for different CTR. Printing only the allocation that are different from the benchmark allocation\")\n",
        "\n",
        "# on an increment of 0.5, the different CTR values Geiko Sports can take\n",
        "k11_values = [2.0/100, 2.5/100, 3.0/100]\n",
        "# on an increment of 0.5, the different CTR values Geiko National can take\n",
        "k12_values = [0.1/100, 0.6/100, 1.1/100]\n",
        "\n",
        "optimal_geiko = []\n",
        "optimal_delta = []\n",
        "optimal_tmobile = []\n",
        "optimal_capitalone = []\n",
        "\n",
        "for k11 in k11_values:\n",
        "  \n",
        "  for k12 in k12_values:\n",
        "    print(\"CTR Geiko Sports: %s\" %k11)\n",
        "    print(\"CTR Geiko National: %s\" %round(k12, 2))\n",
        "    OF=(k11*x11 + k12*x12+ k21*x21 + k22*x22 + k31*x31+ k32*x32+k41*x41+k42*x42)*2.3\n",
        "    objective = cvx.Maximize(OF)\n",
        "\n",
        "    #solving\n",
        "    prob = cvx.Problem(objective, con)\n",
        "    result = prob.solve()\n",
        "\n",
        "    print('optimal revenue')\n",
        "    print (int(np.round(prob.value)))\n",
        "    optimal_geiko.append(int(np.round(prob.value)))\n",
        "    \n",
        "    x = PrettyTable()\n",
        "\n",
        "    x.field_names = [\"Advertisers\", \"Sports\", \"National\"]\n",
        "\n",
        "    x.add_row([\"Geico\", int(np.round(x11.value)), int(np.round(x12.value))])\n",
        "    x.add_row([\"Delta\", int(np.round(x21.value)), int(np.round(x22.value))])\n",
        "    x.add_row([\"T-Mobile\", int(np.round(x31.value)), int(np.round(x32.value))])\n",
        "    x.add_row([\"Capital One\", int(np.round(x41.value)), int(np.round(x42.value))])\n",
        "    \n",
        "    # we are printing the allocation only when it is different from benchmark\n",
        "    if compare_difference(x11, x12, x21, x22, x31, x32, x41, x42):\n",
        "      print(x)\n",
        "\n",
        "      \n",
        "# after finishing the loop, replacing with the original values      \n",
        "k11=2.5/100\n",
        "k12=0.6/100\n",
        "\n",
        "# on an increment of 0.5, the different CTR values Delta Sports can take\n",
        "k21_values = [1.5/100, 2.0/100, 2.5/100]\n",
        "# on an increment of 0.5, the different CTR values Delta National can take\n",
        "k22_values = [0.5/100, 1.0/100, 1.5/100]\n",
        "\n",
        "for k21 in k21_values:\n",
        "  for k22 in k22_values:\n",
        "    print(\"CTR Delta Sports: %s\" %k21)\n",
        "    print(\"CTR Delta National: %s\" %round(k22, 2))\n",
        "    OF=(k11*x11 + k12*x12+ k21*x21 + k22*x22 + k31*x31+ k32*x32+k41*x41+k42*x42)*2.3\n",
        "    objective = cvx.Maximize(OF)\n",
        "\n",
        "    #solving\n",
        "    prob = cvx.Problem(objective, con)\n",
        "    result = prob.solve()\n",
        "\n",
        "    print('optimal revenue')\n",
        "    print (int(np.round(prob.value)))\n",
        "    optimal_delta.append(int(np.round(prob.value)))\n",
        "    x = PrettyTable()\n",
        "\n",
        "    x.field_names = [\"Advertisers\", \"Sports\", \"National\"]\n",
        "\n",
        "    x.add_row([\"Geico\", int(np.round(x11.value)), int(np.round(x12.value))])\n",
        "    x.add_row([\"Delta\", int(np.round(x21.value)), int(np.round(x22.value))])\n",
        "    x.add_row([\"T-Mobile\", int(np.round(x31.value)), int(np.round(x32.value))])\n",
        "    x.add_row([\"Capital One\", int(np.round(x41.value)), int(np.round(x42.value))])\n",
        "\n",
        "    # we are printing the allocation only when it is different from benchmark\n",
        "    if compare_difference(x11, x12, x21, x22, x31, x32, x41, x42):\n",
        "      print(x)\n",
        "\n",
        "# after finishing the loop, replacing with the original values      \n",
        "k21=2.0/100\n",
        "k22=1.0/100\n",
        "\n",
        "# on an increment of 0.5, the different CTR values T-mobile Sports can take\n",
        "k31_values = [0.5/100, 1.0/100, 1.5/100]\n",
        "# on an increment of 0.5, the different CTR values T-mobile National can take\n",
        "k32_values = [2.5/100, 3.0/100, 3.5/100]\n",
        "\n",
        "for k31 in k31_values:\n",
        "  \n",
        "  for k32 in k32_values:\n",
        "    print(\"CTR T-mobile Sports: %s\" %round(k31, 2))\n",
        "    print(\"CTR T-mobile National: %s\" %round(k32, 2))\n",
        "    OF=(k11*x11 + k12*x12+ k21*x21 + k22*x22 + k31*x31+ k32*x32+k41*x41+k42*x42)*2.3\n",
        "    objective = cvx.Maximize(OF)\n",
        "\n",
        "    #solving\n",
        "    prob = cvx.Problem(objective, con)\n",
        "    result = prob.solve()\n",
        "\n",
        "    print('optimal revenue')\n",
        "    print (int(np.round(prob.value)))\n",
        "    optimal_tmobile.append(int(np.round(prob.value)))\n",
        "    x = PrettyTable()\n",
        "\n",
        "    x.field_names = [\"Advertisers\", \"Sports\", \"National\"]\n",
        "\n",
        "    x.add_row([\"Geico\", int(np.round(x11.value)), int(np.round(x12.value))])\n",
        "    x.add_row([\"Delta\", int(np.round(x21.value)), int(np.round(x22.value))])\n",
        "    x.add_row([\"T-Mobile\", int(np.round(x31.value)), int(np.round(x32.value))])\n",
        "    x.add_row([\"Capital One\", int(np.round(x41.value)), int(np.round(x42.value))])\n",
        "\n",
        "    # we are printing the allocation only when it is different from benchmark\n",
        "    if compare_difference(x11, x12, x21, x22, x31, x32, x41, x42):\n",
        "      print(x)\n",
        "\n",
        "# after finishing the loop, replacing with the original values      \n",
        "k31=1.0/100\n",
        "k32=3.0/100\n",
        "\n",
        "# on an increment of 0.5, the different CTR values Capital One Sports can take\n",
        "k41_values = [1.5/100, 2.0/100]\n",
        "# on an increment of 0.5, the different CTR values Capital One National can take\n",
        "k42_values = [1.5/100, 2.0/100, 2.5/100]\n",
        "\n",
        "for k41 in k41_values:\n",
        "  \n",
        "  for k42 in k42_values:\n",
        "    print(\"CTR Captial One Sports: %s\" %k41)\n",
        "    print(\"CTR Captial One National: %s\" %k42)\n",
        "    OF=(k11*x11 + k12*x12+ k21*x21 + k22*x22 + k31*x31+ k32*x32+k41*x41+k42*x42)*2.3\n",
        "    objective = cvx.Maximize(OF)\n",
        "\n",
        "    #solving\n",
        "    prob = cvx.Problem(objective, con)\n",
        "    result = prob.solve()\n",
        "    \n",
        "    print('optimal revenue')\n",
        "    print (int(np.round(prob.value)))\n",
        "    optimal_capitalone.append(int(np.round(prob.value)))\n",
        "    x = PrettyTable()\n",
        "\n",
        "    x.field_names = [\"Advertisers\", \"Sports\", \"National\"]\n",
        "\n",
        "    x.add_row([\"Geico\", int(np.round(x11.value)), int(np.round(x12.value))])\n",
        "    x.add_row([\"Delta\", int(np.round(x21.value)), int(np.round(x22.value))])\n",
        "    x.add_row([\"T-Mobile\", int(np.round(x31.value)), int(np.round(x32.value))])\n",
        "    x.add_row([\"Capital One\", int(np.round(x41.value)), int(np.round(x42.value))])\n",
        "    \n",
        "    # we are printing the allocation only when it is different from benchmark\n",
        "    if compare_difference(x11, x12, x21, x22, x31, x32, x41, x42):\n",
        "      print(x)\n",
        "\n",
        "# after finishing the loop, replacing with the original values      \n",
        "k41=1.5/100\n",
        "k42=2.0/100\n"
      ],
      "execution_count": 0,
      "outputs": [
        {
          "output_type": "stream",
          "text": [
            "Sensitivity analysis for different CTR. Printing only the allocation that are different from the benchmark allocation\n",
            "CTR Geiko Sports: 0.02\n",
            "CTR Geiko National: 0.0\n",
            "optimal revenue\n",
            "456550\n",
            "CTR Geiko Sports: 0.02\n",
            "CTR Geiko National: 0.01\n",
            "optimal revenue\n",
            "468050\n",
            "CTR Geiko Sports: 0.02\n",
            "CTR Geiko National: 0.01\n",
            "optimal revenue\n",
            "479550\n",
            "CTR Geiko Sports: 0.025\n",
            "CTR Geiko National: 0.0\n",
            "optimal revenue\n",
            "491050\n",
            "CTR Geiko Sports: 0.025\n",
            "CTR Geiko National: 0.01\n",
            "optimal revenue\n",
            "502550\n",
            "CTR Geiko Sports: 0.025\n",
            "CTR Geiko National: 0.01\n",
            "optimal revenue\n",
            "514050\n",
            "CTR Geiko Sports: 0.03\n",
            "CTR Geiko National: 0.0\n",
            "optimal revenue\n",
            "525550\n",
            "CTR Geiko Sports: 0.03\n",
            "CTR Geiko National: 0.01\n",
            "optimal revenue\n",
            "537050\n",
            "CTR Geiko Sports: 0.03\n",
            "CTR Geiko National: 0.01\n",
            "optimal revenue\n",
            "548550\n",
            "CTR Delta Sports: 0.015\n",
            "CTR Delta National: 0.01\n",
            "optimal revenue\n",
            "479550\n",
            "CTR Delta Sports: 0.015\n",
            "CTR Delta National: 0.01\n",
            "optimal revenue\n",
            "491050\n",
            "CTR Delta Sports: 0.015\n",
            "CTR Delta National: 0.01\n",
            "optimal revenue\n",
            "502550\n",
            "CTR Delta Sports: 0.02\n",
            "CTR Delta National: 0.01\n",
            "optimal revenue\n",
            "491050\n",
            "CTR Delta Sports: 0.02\n",
            "CTR Delta National: 0.01\n",
            "optimal revenue\n",
            "502550\n",
            "CTR Delta Sports: 0.02\n",
            "CTR Delta National: 0.01\n",
            "optimal revenue\n",
            "514050\n",
            "CTR Delta Sports: 0.025\n",
            "CTR Delta National: 0.01\n",
            "optimal revenue\n",
            "502550\n",
            "CTR Delta Sports: 0.025\n",
            "CTR Delta National: 0.01\n",
            "optimal revenue\n",
            "514050\n",
            "CTR Delta Sports: 0.025\n",
            "CTR Delta National: 0.01\n",
            "optimal revenue\n",
            "525550\n",
            "CTR T-mobile Sports: 0.01\n",
            "CTR T-mobile National: 0.03\n",
            "optimal revenue\n",
            "468050\n",
            "CTR T-mobile Sports: 0.01\n",
            "CTR T-mobile National: 0.03\n",
            "optimal revenue\n",
            "491050\n",
            "CTR T-mobile Sports: 0.01\n",
            "CTR T-mobile National: 0.04\n",
            "optimal revenue\n",
            "514050\n",
            "CTR T-mobile Sports: 0.01\n",
            "CTR T-mobile National: 0.03\n",
            "optimal revenue\n",
            "479550\n",
            "CTR T-mobile Sports: 0.01\n",
            "CTR T-mobile National: 0.03\n",
            "optimal revenue\n",
            "502550\n",
            "CTR T-mobile Sports: 0.01\n",
            "CTR T-mobile National: 0.04\n",
            "optimal revenue\n",
            "525550\n",
            "CTR T-mobile Sports: 0.01\n",
            "CTR T-mobile National: 0.03\n",
            "optimal revenue\n",
            "491050\n",
            "CTR T-mobile Sports: 0.01\n",
            "CTR T-mobile National: 0.03\n",
            "optimal revenue\n",
            "514050\n",
            "CTR T-mobile Sports: 0.01\n",
            "CTR T-mobile National: 0.04\n",
            "optimal revenue\n",
            "537050\n",
            "CTR Captial One Sports: 0.015\n",
            "CTR Captial One National: 0.015\n",
            "optimal revenue\n",
            "485300\n",
            "CTR Captial One Sports: 0.015\n",
            "CTR Captial One National: 0.02\n",
            "optimal revenue\n",
            "496800\n",
            "CTR Captial One Sports: 0.015\n",
            "CTR Captial One National: 0.025\n",
            "optimal revenue\n",
            "508300\n",
            "CTR Captial One Sports: 0.02\n",
            "CTR Captial One National: 0.015\n",
            "optimal revenue\n",
            "496800\n",
            "CTR Captial One Sports: 0.02\n",
            "CTR Captial One National: 0.02\n",
            "optimal revenue\n",
            "508300\n",
            "CTR Captial One Sports: 0.02\n",
            "CTR Captial One National: 0.025\n",
            "optimal revenue\n",
            "519800\n"
          ],
          "name": "stdout"
        }
      ]
    },
    {
      "cell_type": "markdown",
      "metadata": {
        "id": "y61lwOiIk1_m",
        "colab_type": "text"
      },
      "source": [
        "### Section I: We are observing if the allocation changes, when the CTR changes."
      ]
    },
    {
      "cell_type": "markdown",
      "metadata": {
        "id": "vKRmj1cjvVtw",
        "colab_type": "text"
      },
      "source": [
        "![alt text](https://raw.github.com/krithikaceg/Optimization/master/Picture2.png)\n"
      ]
    },
    {
      "cell_type": "markdown",
      "metadata": {
        "id": "g6TLoAwEF08m",
        "colab_type": "text"
      },
      "source": [
        "As we can see form the above graph, Geiko is more sensitive to CTR rate changes.Whereas, t-mobile and Capital One is less sensitive."
      ]
    },
    {
      "cell_type": "markdown",
      "metadata": {
        "id": "hkAo44htkUHN",
        "colab_type": "text"
      },
      "source": [
        "### Section II: We are observing if the allocation changes, when the CTR changes.\n",
        "\n",
        "At a time, we are changing the Click Through Rate of both Sports and National section."
      ]
    },
    {
      "cell_type": "markdown",
      "metadata": {
        "id": "sa9rCVsSlpcn",
        "colab_type": "text"
      },
      "source": [
        "As we can observe from the above result, the allocation changes only for the following CTR combination.\n",
        "\n",
        "So, we can conclude that our allocation is not very sensitive to CTR."
      ]
    },
    {
      "cell_type": "code",
      "metadata": {
        "id": "C6y9cVG7ppY5",
        "colab_type": "code",
        "outputId": "9a29c6c2-5581-4219-ba0f-bd00217811ab",
        "colab": {
          "base_uri": "https://localhost:8080/",
          "height": 289
        }
      },
      "source": [
        "x = PrettyTable()\n",
        "\n",
        "x.field_names = [\"Advertisers\", \"Sports\", \"National\"]\n",
        "\n",
        "x.add_row([\"Geico\", 3000000, 1000000])\n",
        "x.add_row([\"Delta\", 928571, 1071429])\n",
        "x.add_row([\"T-Mobile\", 1000000, 2000000])\n",
        "x.add_row([\"Capital One\", 1071429, 928571])\n",
        "print(x)\n",
        "    \n",
        "    \n",
        "x = PrettyTable()\n",
        "\n",
        "x.field_names = [\"Advertisers\", \"Sports\", \"National\"]\n",
        "\n",
        "x.add_row([\"Geico\", 0.025, 0.06])\n",
        "x.add_row([\"Delta\", 0.02, 0.01])\n",
        "x.add_row([\"T-Mobile\", 0.01, 0.03])\n",
        "x.add_row([\"Capital One\", 0.0175, 0.02])\n",
        "print(x)"
      ],
      "execution_count": 0,
      "outputs": [
        {
          "output_type": "stream",
          "text": [
            "+-------------+---------+----------+\n",
            "| Advertisers |  Sports | National |\n",
            "+-------------+---------+----------+\n",
            "|    Geico    | 3000000 | 1000000  |\n",
            "|    Delta    |  928571 | 1071429  |\n",
            "|   T-Mobile  | 1000000 | 2000000  |\n",
            "| Capital One | 1071429 |  928571  |\n",
            "+-------------+---------+----------+\n",
            "+-------------+--------+----------+\n",
            "| Advertisers | Sports | National |\n",
            "+-------------+--------+----------+\n",
            "|    Geico    | 0.025  |   0.06   |\n",
            "|    Delta    |  0.02  |   0.01   |\n",
            "|   T-Mobile  |  0.01  |   0.03   |\n",
            "| Capital One | 0.0175 |   0.02   |\n",
            "+-------------+--------+----------+\n"
          ],
          "name": "stdout"
        }
      ]
    },
    {
      "cell_type": "markdown",
      "metadata": {
        "id": "zuoETgLhGJfB",
        "colab_type": "text"
      },
      "source": [
        "To The Washington Post,\n",
        "\n",
        "Based on our analysis, we have suggested optimal allocation of impressions for each company in each division. Based on the past history of advertisers and their CTRs, we have also come up with the maximum profit the company would achieve. \n",
        "\n",
        "However, this optimal allocation is calculated based on deterministic model. Since things vary over time, we have accounted for the changes in CTR. We have performed sensitivity analysis on the chnage of CTRfor every advertiser for each section.\n",
        "\n",
        "Our Type I sensitivity analysis suggests that, Geiko is more sensitive to CTR changes. WHen CTR rates go from 2% to 3% in Sports and 0.1% to 1.1% in National, the optimal revenue obtained is varying a lot. We suggest you made need to pay careful attention when CTR rates of Geiko changes. \n",
        "\n",
        "On the other hand, our Type II sensitivity analysis suggests that even though the CTR rates change, the allocations for each advertiser's each section doesn't vary much. To get into details you can refer to \"Section II: We are observing if the allocation changes, when the CTR changes.\" \n",
        "\n",
        "Based on the historical data of The Washington Post and the constraints you have given, we have created optimization model and performed optimization. However, this is only a suggestion from our side to allocate the impressions. It is finally the decision of your company to go ahead with it or not. As things change over time, we can only expect to happen in the way we predicted, nonetheless, we cannot assure it will be exactly the same.\n",
        "\n",
        "Please come back to us in case of any queries or further requirement.\n"
      ]
    }
  ]
}